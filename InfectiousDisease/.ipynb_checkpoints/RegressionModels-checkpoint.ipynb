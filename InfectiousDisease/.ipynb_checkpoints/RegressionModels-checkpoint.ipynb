{
 "cells": [
  {
   "cell_type": "code",
   "execution_count": 26,
   "metadata": {},
   "outputs": [],
   "source": [
    "import random\n",
    "import numpy as np\n",
    "import tensorflow as tf\n",
    "\n",
    "from Utils.training import train_step\n",
    "\n",
    "from Data.DataGenerator import data_generator\n",
    "from Data.DataFiltering import sanity_checks\n",
    "from Simulators.SEIRD import HeteroskedasticModel\n",
    "from Utils.viz import plot_true_est_scatter\n",
    "from Utils.losses import mse, heteroskedastic_loss\n",
    "\n",
    "np.set_printoptions(suppress=True)"
   ]
  },
  {
   "cell_type": "code",
   "execution_count": 27,
   "metadata": {
    "scrolled": true
   },
   "outputs": [
    {
     "name": "stdout",
     "output_type": "stream",
     "text": [
      "The autoreload extension is already loaded. To reload it, use:\n",
      "  %reload_ext autoreload\n"
     ]
    }
   ],
   "source": [
    "%load_ext autoreload\n",
    "%autoreload 2"
   ]
  },
  {
   "cell_type": "code",
   "execution_count": 30,
   "metadata": {},
   "outputs": [],
   "source": [
    "# Prepare the training dataset\n",
    "n_data = 1500\n",
    "data = data_generator(batch_size=n_data)\n",
    "\n",
    "# Preprocessing dataset\n",
    "x = np.array(data['x'])\n",
    "theta = np.array(data['theta'])\n",
    "\n",
    "# Shuffling data\n",
    "indices = np.arange(n_data)\n",
    "np.random.shuffle(indices)\n",
    "\n",
    "x = x[indices]\n",
    "theta = theta[indices]"
   ]
  },
  {
   "cell_type": "code",
   "execution_count": 31,
   "metadata": {},
   "outputs": [
    {
     "name": "stdout",
     "output_type": "stream",
     "text": [
      "(1500, 100, 5)\n",
      "<class 'numpy.ndarray'>\n",
      "(1500, 5)\n",
      "<class 'numpy.ndarray'>\n"
     ]
    }
   ],
   "source": [
    "print(x.shape)\n",
    "print(type(x))\n",
    "print(theta.shape)\n",
    "print(type(theta))"
   ]
  },
  {
   "cell_type": "code",
   "execution_count": 32,
   "metadata": {},
   "outputs": [],
   "source": [
    "# Sanity checks\n",
    "x, theta = sanity_checks(x, theta)\n",
    "\n",
    "# Sanity checks for numerical stability\n",
    "assert(np.sum(x == np.inf) == 0)\n",
    "assert(np.sum(x == -np.inf) == 0)\n",
    "assert(np.sum(x == np.nan) == 0)"
   ]
  },
  {
   "cell_type": "code",
   "execution_count": 33,
   "metadata": {},
   "outputs": [
    {
     "name": "stdout",
     "output_type": "stream",
     "text": [
      "(1500, 500)\n",
      "(1500, 5)\n"
     ]
    }
   ],
   "source": [
    "print(x.shape)\n",
    "print(theta.shape)"
   ]
  },
  {
   "cell_type": "code",
   "execution_count": 39,
   "metadata": {},
   "outputs": [],
   "source": [
    "# Prepare training and test set\n",
    "x_train = x[:-500]\n",
    "y_train = theta[:-500]\n",
    "\n",
    "x_test = x[-500:]\n",
    "y_test = theta[-500:]"
   ]
  },
  {
   "cell_type": "code",
   "execution_count": 40,
   "metadata": {},
   "outputs": [],
   "source": [
    "class SummaryNet(tf.keras.Model):\n",
    "    def __init__(self, n_summary):\n",
    "        super(SummaryNet, self).__init__()\n",
    "        self.lstm = tf.keras.layers.LSTM(n_summary)\n",
    "\n",
    "    def call(self, x):\n",
    "        out_lstm = self.lstm(x)\n",
    "        return out_lstm"
   ]
  },
  {
   "cell_type": "markdown",
   "metadata": {},
   "source": [
    "### Training hyperparameters"
   ]
  },
  {
   "cell_type": "code",
   "execution_count": 41,
   "metadata": {},
   "outputs": [],
   "source": [
    "meta_inference = {\n",
    "        'n_units': [192, 192, 192],\n",
    "        'activation': 'elu',\n",
    "        'w_decay': 0.0,\n",
    "        'initializer': 'glorot_uniform'\n",
    "}"
   ]
  },
  {
   "cell_type": "code",
   "execution_count": 48,
   "metadata": {},
   "outputs": [],
   "source": [
    "n_summary = 64\n",
    "summary_net = SummaryNet(n_summary)"
   ]
  },
  {
   "cell_type": "code",
   "execution_count": 49,
   "metadata": {},
   "outputs": [],
   "source": [
    "# Instantiate a model\n",
    "hetereskodastic_model = HeteroskedasticModel(meta_inference, summary_net=summary_net)"
   ]
  },
  {
   "cell_type": "code",
   "execution_count": 50,
   "metadata": {},
   "outputs": [],
   "source": [
    "# Instantiate an optimizer\n",
    "starter_learning_rate = 0.0005\n",
    "global_step = tf.Variable(0, dtype=tf.int32)\n",
    "decay_steps = 1000\n",
    "decay_rate = .99\n",
    "\n",
    "learning_rate = tf.compat.v1.train.exponential_decay(starter_learning_rate, global_step, \n",
    "                                           decay_steps, decay_rate, staircase=True)\n",
    "\n",
    "\n",
    "optimizer = tf.compat.v1.train.AdamOptimizer(learning_rate=learning_rate)\n",
    "\n",
    "# Instantiate a loss function\n",
    "loss_fn = heteroskedastic_loss\n",
    "\n",
    "# Reserve samples for validation\n",
    "\n",
    "\n",
    "# Prepare the training data set\n",
    "\n",
    "# Prepare the validation set\n",
    "\n",
    "\n",
    "param_names = [\"beta\", \"alpha\", \"gamma\", \"delta\", \"rho\"]\n",
    "\n",
    "theta_dim = len(param_names)\n",
    "\n",
    "batch_size = 64\n",
    "epochs = 75\n",
    "iterations_per_epoch = 1000\n",
    "clip_value = 5."
   ]
  },
  {
   "cell_type": "markdown",
   "metadata": {},
   "source": [
    "### Training loop"
   ]
  },
  {
   "cell_type": "code",
   "execution_count": null,
   "metadata": {},
   "outputs": [],
   "source": [
    "%%time\n",
    "for ep in range(1, epochs + 1):\n",
    "    with tqdm(total=iterations_per_epoch, desc='Training epoch {}'.format(ep)) as p_bar:\n",
    "        losses = train_step(x_train=x_train,\n",
    "                              y_train=y_train,\n",
    "                              model=heteroskedastic_model, \n",
    "                              optimizer=optimizer,\n",
    "                              loss_fn=heteroskedastik_loss, \n",
    "                              iterations=iterations_per_epoch,\n",
    "                              batch_size=batch_size,\n",
    "                              p_bar=p_bar,\n",
    "                              global_step=global_step)\n",
    "        \n",
    "        # Manage checkpoint\n",
    "        manager.save()"
   ]
  },
  {
   "cell_type": "markdown",
   "metadata": {},
   "source": [
    "### Validation??"
   ]
  },
  {
   "cell_type": "code",
   "execution_count": 22,
   "metadata": {},
   "outputs": [],
   "source": [
    "y_pred = hetereskodastic_model(test_X)"
   ]
  },
  {
   "cell_type": "code",
   "execution_count": 24,
   "metadata": {},
   "outputs": [
    {
     "ename": "AttributeError",
     "evalue": "'numpy.ndarray' object has no attribute 'numpy'",
     "output_type": "error",
     "traceback": [
      "\u001b[0;31m---------------------------------------------------------------------------\u001b[0m",
      "\u001b[0;31mAttributeError\u001b[0m                            Traceback (most recent call last)",
      "\u001b[0;32m<ipython-input-24-a2adf3bc4f1d>\u001b[0m in \u001b[0;36m<module>\u001b[0;34m\u001b[0m\n\u001b[0;32m----> 1\u001b[0;31m \u001b[0mplot_true_est_scatter\u001b[0m\u001b[0;34m(\u001b[0m\u001b[0my_predict\u001b[0m\u001b[0;34m,\u001b[0m \u001b[0mtest_theta\u001b[0m\u001b[0;34m,\u001b[0m \u001b[0mparam_names\u001b[0m\u001b[0;34m)\u001b[0m\u001b[0;34m\u001b[0m\u001b[0;34m\u001b[0m\u001b[0m\n\u001b[0m",
      "\u001b[0;32m~/Documents/JUAN/Uni_Heidelberg/Projects/InfectiousDiseases/InfectiousDisease/Utils/viz.py\u001b[0m in \u001b[0;36mplot_true_est_scatter\u001b[0;34m(theta_approx_means, theta_test, param_names, font_size_metric, figsize, show, filename, font_size)\u001b[0m\n\u001b[1;32m     13\u001b[0m \u001b[0;34m\u001b[0m\u001b[0m\n\u001b[1;32m     14\u001b[0m     \u001b[0;31m# Convert true parameters to numpy\u001b[0m\u001b[0;34m\u001b[0m\u001b[0;34m\u001b[0m\u001b[0;34m\u001b[0m\u001b[0m\n\u001b[0;32m---> 15\u001b[0;31m     \u001b[0mtheta_test\u001b[0m \u001b[0;34m=\u001b[0m \u001b[0mtheta_test\u001b[0m\u001b[0;34m.\u001b[0m\u001b[0mnumpy\u001b[0m\u001b[0;34m(\u001b[0m\u001b[0;34m)\u001b[0m\u001b[0;34m\u001b[0m\u001b[0;34m\u001b[0m\u001b[0m\n\u001b[0m\u001b[1;32m     16\u001b[0m \u001b[0;34m\u001b[0m\u001b[0m\n\u001b[1;32m     17\u001b[0m     \u001b[0;31m# Determine figure layout\u001b[0m\u001b[0;34m\u001b[0m\u001b[0;34m\u001b[0m\u001b[0;34m\u001b[0m\u001b[0m\n",
      "\u001b[0;31mAttributeError\u001b[0m: 'numpy.ndarray' object has no attribute 'numpy'"
     ]
    }
   ],
   "source": [
    "plot_true_est_scatter(y_pred, y_theta, param_names)"
   ]
  },
  {
   "cell_type": "code",
   "execution_count": null,
   "metadata": {},
   "outputs": [],
   "source": []
  }
 ],
 "metadata": {
  "kernelspec": {
   "display_name": "Python 3",
   "language": "python",
   "name": "python3"
  },
  "language_info": {
   "codemirror_mode": {
    "name": "ipython",
    "version": 3
   },
   "file_extension": ".py",
   "mimetype": "text/x-python",
   "name": "python",
   "nbconvert_exporter": "python",
   "pygments_lexer": "ipython3",
   "version": "3.8.2"
  }
 },
 "nbformat": 4,
 "nbformat_minor": 4
}
