{
 "cells": [
  {
   "cell_type": "code",
   "execution_count": null,
   "id": "powered-latest",
   "metadata": {},
   "outputs": [],
   "source": [
    "import numpy as np\n",
    "import tensorflow as tf\n",
    "\n",
    "from scipy import stats\n",
    "from sklearn.metrics import r2_score\n",
    "from tqdm import tqdm\n",
    "from tensorflow.keras.regularizers import l2\n",
    "from functools import partial\n",
    "\n",
    "import matplotlib.pyplot as plt\n",
    "import pandas as pd\n",
    "from matplotlib import cm\n",
    "import seaborn as sns\n",
    "\n",
    "# Data\n",
    "from data.data_generator import data_generator\n",
    "from data.data_generator import data_model\n",
    "from data.data_filtering import (sanity_checks, est_sanity_checks, sample_sanity_checks)\n",
    "\n",
    "# Model\n",
    "from models.models import HeteroskedasticModel\n",
    "from models.models import BayesFlow\n",
    "\n",
    "# Utils\n",
    "from utils.losses import heteroskedastic_loss, maximum_likelihood_loss\n",
    "from utils.training import train_step\n",
    "from utils.viz import (plot_true_est_scatter, plot_true_est_posterior, \n",
    "                       plot_correlation_parameters, plot_comp_post_prior, plot_ppc)\n",
    "\n",
    "%load_ext autoreload\n",
    "%autoreload 2"
   ]
  },
  {
   "cell_type": "code",
   "execution_count": 2,
   "id": "naked-cassette",
   "metadata": {},
   "outputs": [],
   "source": [
    "# Using Heteroskedastic model as summary net\n",
    "class SummaryNet(tf.keras.Model):\n",
    "    def __init__(self, meta):\n",
    "        super(CustomSummaryNetwork, self).__init__()\n",
    "        pass\n",
    "    \n",
    "    def call(self, x):\n",
    "        \"\"\"\n",
    "        Performs a forward pass through the summary network\n",
    "        Arguments:\n",
    "        x : tf.Tensor of shape (batch_size, n_obs, x_dim) - a batch of samples from p(x|params)\n",
    "        \"\"\"\n",
    "        \n",
    "        # Do something with input\n",
    "        return x"
   ]
  },
  {
   "cell_type": "markdown",
   "id": "distant-prime",
   "metadata": {},
   "source": [
    "### Training Hyperparameters"
   ]
  },
  {
   "cell_type": "code",
   "execution_count": 3,
   "id": "bacterial-platform",
   "metadata": {},
   "outputs": [],
   "source": [
    "# Network hyperparameters\n",
    "inv_meta = {\n",
    "    'n_units': [64, 64, 64],\n",
    "    'activation': 'elu',\n",
    "    'w_decay': 0.0,\n",
    "    'initializer': 'glorot_uniform'\n",
    "}\n",
    "n_inv_blocks = 5\n",
    "\n",
    "# Optional if using the predefined summary nets\n",
    "summary_meta = {\n",
    "    'n_units': [192, 192, 192],\n",
    "    'activation': 'elu',\n",
    "    'w_decay': 0.0,\n",
    "    'initializer': 'glorot_uniform'\n",
    "}\n",
    "\n",
    "\n",
    "# Forward model hyperparameters\n",
    "parameter_names = [r'$\\beta$', r'$\\alpha$', r'$\\gamma$', r'$\\delta$', r'$\\rho$']\n",
    "theta_dim = len(parameter_names)\n",
    "n_test = 500\n",
    "\n",
    "\n",
    "# Training and optimizer hyperparameters\n",
    "ckpt_file = \"SEIDR_eta\"\n",
    "batch_size = 64\n",
    "epochs = 100\n",
    "iterations_per_epoch = 1000\n",
    "n_samples_posterior = 2000\n",
    "\n",
    "starter_learning_rate = 0.001\n",
    "global_step = tf.Variable(0, dtype=tf.int32)\n",
    "decay_steps = 1000\n",
    "decay_rate = .95\n",
    "learning_rate = tf.keras.optimizers.schedules.ExponentialDecay(starter_learning_rate, decay_steps, decay_rate)\n",
    "optimizer = tf.keras.optimizers.Adam(learning_rate)"
   ]
  },
  {
   "cell_type": "markdown",
   "id": "posted-corporation",
   "metadata": {},
   "source": [
    "### Test Data"
   ]
  },
  {
   "cell_type": "code",
   "execution_count": 4,
   "id": "sunrise-california",
   "metadata": {},
   "outputs": [
    {
     "name": "stdout",
     "output_type": "stream",
     "text": [
      "CPU times: user 133 ms, sys: 2.02 ms, total: 135 ms\n",
      "Wall time: 134 ms\n"
     ]
    }
   ],
   "source": [
    "%%time\n",
    "data_test = data_generator(n_test)\n",
    "\n",
    "# Preprocessing untrained data\n",
    "x_test = np.array(data_test['x'])\n",
    "theta_test = np.array(data_test['theta'])"
   ]
  },
  {
   "cell_type": "code",
   "execution_count": 5,
   "id": "varying-importance",
   "metadata": {
    "scrolled": true
   },
   "outputs": [
    {
     "name": "stdout",
     "output_type": "stream",
     "text": [
      "<class 'numpy.ndarray'>\n",
      "(500, 100, 5)\n",
      "<class 'numpy.ndarray'>\n",
      "(500, 5)\n"
     ]
    }
   ],
   "source": [
    "print(type(x_test))\n",
    "print(x_test.shape)\n",
    "print(type(theta_test))\n",
    "print(theta_test.shape)"
   ]
  },
  {
   "cell_type": "code",
   "execution_count": 6,
   "id": "induced-bubble",
   "metadata": {},
   "outputs": [],
   "source": [
    "# Sanity checks\n",
    "x_test, theta_test = sanity_checks(x_test, theta_test)\n",
    "\n",
    "# Sanity checks for numerical stability\n",
    "assert(np.sum(x_test == np.inf) == 0)\n",
    "assert(np.sum(x_test == -np.inf) == 0)\n",
    "assert(np.sum(x_test == np.nan) == 0)\n",
    "\n",
    "# Reshape x\n",
    "x_test = x_test.reshape(x_test.shape[0], -1)"
   ]
  },
  {
   "cell_type": "code",
   "execution_count": 7,
   "id": "republican-better",
   "metadata": {},
   "outputs": [
    {
     "name": "stdout",
     "output_type": "stream",
     "text": [
      "(500, 500)\n",
      "(500, 5)\n"
     ]
    }
   ],
   "source": [
    "print(x_test.shape)\n",
    "print(theta_test.shape)"
   ]
  },
  {
   "cell_type": "markdown",
   "id": "coral-audience",
   "metadata": {},
   "source": [
    "### Networks"
   ]
  },
  {
   "cell_type": "code",
   "execution_count": 8,
   "id": "conceptual-factor",
   "metadata": {},
   "outputs": [],
   "source": [
    "# Instantiate model\n",
    "summary_net = HeteroskedasticModel(summary_meta)\n",
    "model = BayesFlow(inv_meta, n_inv_blocks, theta_dim, summary_net=summary_net, permute=True)"
   ]
  },
  {
   "cell_type": "markdown",
   "id": "hispanic-transcription",
   "metadata": {},
   "source": [
    "### Compile"
   ]
  },
  {
   "cell_type": "code",
   "execution_count": 9,
   "id": "wooden-cardiff",
   "metadata": {},
   "outputs": [
    {
     "data": {
      "image/png": "[encoded data removed]",
      "text/plain": [
       "<Figure size 864x288 with 5 Axes>"
      ]
     },
     "metadata": {
      "needs_background": "light"
     },
     "output_type": "display_data"
    }
   ],
   "source": [
    "plot_true_est_scatter(model, x_test, theta_test, n_samples_posterior, parameter_names, figsize=(12, 4))"
   ]
  },
  {
   "cell_type": "markdown",
   "id": "embedded-authorization",
   "metadata": {},
   "source": [
    "### Manage checkpoints"
   ]
  },
  {
   "cell_type": "code",
   "execution_count": 10,
   "id": "noted-marketing",
   "metadata": {},
   "outputs": [
    {
     "name": "stdout",
     "output_type": "stream",
     "text": [
      "Initializing from scratch.\n"
     ]
    }
   ],
   "source": [
    "checkpoint = tf.train.Checkpoint(step=global_step, optimizer=optimizer, net=model)\n",
    "manager = tf.train.CheckpointManager(checkpoint, './checkpoints/{}'.format(ckpt_file), max_to_keep=3)\n",
    "checkpoint.restore(manager.latest_checkpoint)\n",
    "if manager.latest_checkpoint:\n",
    "    print(\"Restored from {}\".format(manager.latest_checkpoint))\n",
    "else:\n",
    "    print(\"Initializing from scratch.\")"
   ]
  },
  {
   "cell_type": "markdown",
   "id": "statewide-doubt",
   "metadata": {},
   "source": [
    "### Training network"
   ]
  },
  {
   "cell_type": "code",
   "execution_count": null,
   "id": "tight-subject",
   "metadata": {
    "scrolled": true
   },
   "outputs": [
    {
     "name": "stderr",
     "output_type": "stream",
     "text": [
      "Training epoch 1: 100%|██████████| 1000/1000 [01:39<00:00, 10.01it/s, Iteration: 1000, Loss: -6.304007530212402]\n",
      "Training epoch 2: 100%|██████████| 1000/1000 [01:49<00:00,  9.16it/s, Iteration: 1000, Loss: -15.589860916137695]\n",
      "Training epoch 3: 100%|██████████| 1000/1000 [01:42<00:00,  9.76it/s, Iteration: 1000, Loss: -15.54869556427002]\n",
      "Training epoch 4: 100%|██████████| 1000/1000 [01:43<00:00,  9.62it/s, Iteration: 1000, Loss: -15.703644752502441]\n",
      "Training epoch 5: 100%|██████████| 1000/1000 [01:40<00:00,  9.98it/s, Iteration: 1000, Loss: -20.147098541259766]\n",
      "Training epoch 6: 100%|██████████| 1000/1000 [01:40<00:00,  9.95it/s, Iteration: 1000, Loss: -17.796165466308594]\n",
      "Training epoch 7: 100%|██████████| 1000/1000 [01:43<00:00,  9.64it/s, Iteration: 1000, Loss: -19.631977081298828]\n",
      "Training epoch 8: 100%|██████████| 1000/1000 [01:44<00:00,  9.61it/s, Iteration: 1000, Loss: -21.35684585571289]\n",
      "Training epoch 9: 100%|██████████| 1000/1000 [01:41<00:00,  9.89it/s, Iteration: 1000, Loss: -19.109588623046875]\n",
      "Training epoch 10: 100%|██████████| 1000/1000 [01:42<00:00,  9.73it/s, Iteration: 1000, Loss: -22.051761627197266]\n",
      "Training epoch 11: 100%|██████████| 1000/1000 [01:43<00:00,  9.71it/s, Iteration: 1000, Loss: -20.528820037841797]\n",
      "Training epoch 12: 100%|██████████| 1000/1000 [01:44<00:00,  9.61it/s, Iteration: 1000, Loss: -16.116779327392578]\n",
      "Training epoch 13: 100%|██████████| 1000/1000 [01:41<00:00,  9.83it/s, Iteration: 1000, Loss: -21.808500289916992]\n",
      "Training epoch 14: 100%|██████████| 1000/1000 [01:42<00:00,  9.79it/s, Iteration: 1000, Loss: -22.323699951171875]\n",
      "Training epoch 15: 100%|██████████| 1000/1000 [01:42<00:00,  9.78it/s, Iteration: 1000, Loss: -22.582462310791016]\n",
      "Training epoch 16: 100%|██████████| 1000/1000 [01:42<00:00,  9.74it/s, Iteration: 1000, Loss: -22.574222564697266]\n",
      "Training epoch 17: 100%|██████████| 1000/1000 [01:42<00:00,  9.75it/s, Iteration: 1000, Loss: -23.40431022644043]\n",
      "Training epoch 18: 100%|██████████| 1000/1000 [01:43<00:00,  9.71it/s, Iteration: 1000, Loss: -23.790363311767578]\n",
      "Training epoch 19: 100%|██████████| 1000/1000 [01:43<00:00,  9.66it/s, Iteration: 1000, Loss: -23.26516342163086]\n",
      "Training epoch 20: 100%|██████████| 1000/1000 [01:42<00:00,  9.73it/s, Iteration: 1000, Loss: -22.897350311279297]\n",
      "Training epoch 21: 100%|██████████| 1000/1000 [01:46<00:00,  9.43it/s, Iteration: 1000, Loss: -24.116025924682617]\n",
      "Training epoch 22: 100%|██████████| 1000/1000 [01:42<00:00,  9.72it/s, Iteration: 1000, Loss: -23.915912628173828]\n",
      "Training epoch 23: 100%|██████████| 1000/1000 [01:42<00:00,  9.72it/s, Iteration: 1000, Loss: -24.955814361572266]\n",
      "Training epoch 24: 100%|██████████| 1000/1000 [01:42<00:00,  9.71it/s, Iteration: 1000, Loss: -25.25582504272461]\n",
      "Training epoch 25: 100%|██████████| 1000/1000 [01:43<00:00,  9.69it/s, Iteration: 1000, Loss: -24.367408752441406]\n",
      "Training epoch 26: 100%|██████████| 1000/1000 [01:43<00:00,  9.67it/s, Iteration: 1000, Loss: -24.853782653808594]\n",
      "Training epoch 27: 100%|██████████| 1000/1000 [01:43<00:00,  9.69it/s, Iteration: 1000, Loss: -23.947877883911133]\n",
      "Training epoch 28: 100%|██████████| 1000/1000 [01:45<00:00,  9.48it/s, Iteration: 1000, Loss: -24.547889709472656]\n",
      "Training epoch 29: 100%|██████████| 1000/1000 [01:43<00:00,  9.66it/s, Iteration: 1000, Loss: -25.934207916259766]\n",
      "Training epoch 30: 100%|██████████| 1000/1000 [01:57<00:00,  8.53it/s, Iteration: 1000, Loss: -26.220027923583984]\n",
      "Training epoch 31: 100%|██████████| 1000/1000 [22:52<00:00,  1.37s/it, Iteration: 1000, Loss: -25.673954010009766]  \n",
      "Training epoch 32: 100%|██████████| 1000/1000 [01:43<00:00,  9.65it/s, Iteration: 1000, Loss: -25.175756454467773]\n",
      "Training epoch 33: 100%|██████████| 1000/1000 [01:43<00:00,  9.68it/s, Iteration: 1000, Loss: -26.799339294433594]\n",
      "Training epoch 34: 100%|██████████| 1000/1000 [01:42<00:00,  9.79it/s, Iteration: 1000, Loss: -26.48398208618164]\n",
      "Training epoch 35: 100%|██████████| 1000/1000 [01:42<00:00,  9.75it/s, Iteration: 1000, Loss: -26.510618209838867]\n",
      "Training epoch 36: 100%|██████████| 1000/1000 [01:42<00:00,  9.73it/s, Iteration: 1000, Loss: -27.405105590820312]\n",
      "Training epoch 37: 100%|██████████| 1000/1000 [01:41<00:00,  9.86it/s, Iteration: 1000, Loss: -28.201831817626953]\n",
      "Training epoch 38: 100%|██████████| 1000/1000 [01:41<00:00,  9.80it/s, Iteration: 1000, Loss: -26.880897521972656]\n",
      "Training epoch 39: 100%|██████████| 1000/1000 [01:45<00:00,  9.47it/s, Iteration: 1000, Loss: -27.295833587646484]\n",
      "Training epoch 40:  64%|██████▍   | 639/1000 [01:05<00:36,  9.78it/s, Iteration: 639, Loss: -26.83865737915039] "
     ]
    }
   ],
   "source": [
    "# %%time\n",
    "for ep in range(1, epochs + 1):\n",
    "    with tqdm(total=iterations_per_epoch, desc='Training epoch {}'.format(ep)) as p_bar:\n",
    "        losses = train_step(model=model, \n",
    "                            optimizer=optimizer,\n",
    "                            loss_fn=maximum_likelihood_loss, \n",
    "                            iterations=iterations_per_epoch,\n",
    "                            batch_size=batch_size,\n",
    "                            p_bar=p_bar,\n",
    "                            global_step=global_step) \n",
    "\n",
    "        # Manage checkpoint\n",
    "        manager.save()"
   ]
  },
  {
   "cell_type": "markdown",
   "id": "social-eclipse",
   "metadata": {},
   "source": [
    "### Posterior means & Full posteriors"
   ]
  },
  {
   "cell_type": "code",
   "execution_count": null,
   "id": "digital-horizontal",
   "metadata": {},
   "outputs": [],
   "source": [
    "x_test.shape"
   ]
  },
  {
   "cell_type": "code",
   "execution_count": null,
   "id": "structural-evidence",
   "metadata": {},
   "outputs": [],
   "source": [
    "# Estimation sanity checks\n",
    "theta_samples = model.sample(x_test, n_samples_posterior, to_numpy=True)\n",
    "theta_approx_means = theta_samples.mean(axis=0)"
   ]
  },
  {
   "cell_type": "code",
   "execution_count": null,
   "id": "meaningful-ordinary",
   "metadata": {},
   "outputs": [],
   "source": [
    "ftheta_approx_means, ftheta_test, fx_test = est_sanity_checks(theta_approx_means, theta_test, x_test=x_test)"
   ]
  },
  {
   "cell_type": "code",
   "execution_count": null,
   "id": "alleged-checklist",
   "metadata": {},
   "outputs": [],
   "source": [
    "print(fx_test.shape)\n",
    "print(ftheta_test.shape)\n",
    "print(ftheta_approx_means.shape)"
   ]
  },
  {
   "cell_type": "code",
   "execution_count": null,
   "id": "clinical-marking",
   "metadata": {},
   "outputs": [],
   "source": [
    "plot_true_est_scatter(model, fx_test, ftheta_test, n_samples_posterior, parameter_names, figsize=(12, 3), theta_approx_means=ftheta_approx_means)\n",
    "\n",
    "plot_true_est_posterior(model, 2000, parameter_names, font_size=8,\n",
    "                        X_test=fx_test[:5], \n",
    "                        theta_test=ftheta_test[:5], figsize=(12, 8))"
   ]
  },
  {
   "cell_type": "markdown",
   "id": "plain-vinyl",
   "metadata": {},
   "source": [
    "What we have up to this point:\n",
    "- x_test: array-like of shape (500, 500) -- 500 time series for 5 compartiments\n",
    "- theta_samples: array-like of shape (n_samples_posterior, 500, 5) -- n_samples_posterior of tuples of parameter theta for the 500 time series. That is, for each time series of 5 compartiments, each sample of the n_samples_posterior will consist of 500 plausible tupples of parameters (each tuple consists of 5 parameters)\n",
    "\n",
    "ToDo:\n",
    "\n",
    "Iterate through all time series and exclude those parameters that are impossible (est sanity checks)\n",
    "So, when iterating through all time series, an array-like of shape (n_samples_posterior, 1, 5) --> (n_samples_posterior, 5) is obtained. The posteriors are then compared with the ground truth estimations.\n",
    "\n",
    "This array is filtered and used for resimulation\n",
    "\n",
    "Resimulation: The time series are computed by passing the obtained and filtered array of tuples.\n",
    "A total of fn_samples_posterior time series are simulated and compared with the posterior predictive"
   ]
  },
  {
   "cell_type": "code",
   "execution_count": null,
   "id": "expected-tribe",
   "metadata": {},
   "outputs": [],
   "source": [
    "# Select random time series\n",
    "sel_idx = np.random.choice(theta_samples.shape[1], 1, replace=False)"
   ]
  },
  {
   "cell_type": "code",
   "execution_count": null,
   "id": "embedded-shelter",
   "metadata": {},
   "outputs": [],
   "source": [
    "sel_theta_samples = theta_samples[:, sel_idx, :].squeeze()\n",
    "sel_theta_test = theta_test[sel_idx, :].squeeze()\n",
    "sel_x_test = x_test[sel_idx, :].squeeze().reshape(-1, 5)"
   ]
  },
  {
   "cell_type": "code",
   "execution_count": null,
   "id": "hired-resort",
   "metadata": {},
   "outputs": [],
   "source": [
    "# Sanity checks\n",
    "fsel_theta_samples = sample_sanity_checks(sel_theta_samples)"
   ]
  },
  {
   "cell_type": "code",
   "execution_count": null,
   "id": "humanitarian-register",
   "metadata": {
    "scrolled": true
   },
   "outputs": [],
   "source": [
    "print(sel_x_test.shape)\n",
    "print(sel_theta_test.shape)\n",
    "print(fsel_theta_samples.shape)"
   ]
  },
  {
   "cell_type": "markdown",
   "id": "optimum-aspect",
   "metadata": {},
   "source": [
    "### Correlation of parameters"
   ]
  },
  {
   "cell_type": "code",
   "execution_count": null,
   "id": "cubic-massachusetts",
   "metadata": {
    "scrolled": false
   },
   "outputs": [],
   "source": [
    "print(parameter_names)\n",
    "plot_correlation_parameters(fsel_theta_samples, parameter_names)"
   ]
  },
  {
   "cell_type": "markdown",
   "id": "transsexual-while",
   "metadata": {},
   "source": [
    "### Ground-Truth comparison"
   ]
  },
  {
   "cell_type": "code",
   "execution_count": null,
   "id": "sudden-jacksonville",
   "metadata": {},
   "outputs": [],
   "source": [
    "# Ground-Truth comparison\n",
    "# For each parameter compute NRMSE\n",
    "nrmses = []\n",
    "for i in range(5):\n",
    "    # Compute NRMSE\n",
    "    rmse = np.sqrt(np.mean((fsel_theta_samples[:, i] - sel_theta_test[i]) ** 2))\n",
    "    nrmse = rmse / (sel_theta_test[i])\n",
    "    nrmses.append(nrmse)"
   ]
  },
  {
   "cell_type": "code",
   "execution_count": null,
   "id": "precious-arbor",
   "metadata": {},
   "outputs": [],
   "source": [
    "print(\"Ground-truth comparison (normalized root-mean-square deviation): \\n{}\".format(nrmses))"
   ]
  },
  {
   "cell_type": "code",
   "execution_count": null,
   "id": "alternate-control",
   "metadata": {},
   "outputs": [],
   "source": [
    "fsel_theta_samples.shape"
   ]
  },
  {
   "cell_type": "code",
   "execution_count": null,
   "id": "compressed-table",
   "metadata": {},
   "outputs": [],
   "source": [
    "# Resimulation\n",
    "t_obs = 100\n",
    "dt = 1\n",
    "t = np.linspace(0, t_obs, int(t_obs/dt))\n",
    "N = 10000\n",
    "init_vals = 1 - 1/N, 1/N, 0, 0, 0\n",
    "forward_model = partial(data_model, initial_values=init_vals)"
   ]
  },
  {
   "cell_type": "code",
   "execution_count": null,
   "id": "iraqi-liquid",
   "metadata": {},
   "outputs": [],
   "source": [
    "ts = np.empty((fsel_theta_samples.shape[0], t_obs, 5))\n",
    "for i in range(fsel_theta_samples.shape[0]):\n",
    "    ts[i, :, :] = forward_model(fsel_theta_samples[i, :], t=t)"
   ]
  },
  {
   "cell_type": "code",
   "execution_count": null,
   "id": "overhead-contemporary",
   "metadata": {},
   "outputs": [],
   "source": [
    "labels = ['S', 'E', 'I', 'R', 'D']\n",
    "ts.shape"
   ]
  },
  {
   "cell_type": "code",
   "execution_count": null,
   "id": "resistant-general",
   "metadata": {},
   "outputs": [],
   "source": [
    "# Plot time series\n",
    "plt.rcParams['font.size'] = 11\n",
    "f, ax = plt.subplots(1, 1, figsize=(15, 10))\n",
    "for i in range(5):\n",
    "    ax.plot(ts[0, :, i], label=labels[i], lw=2)\n",
    "    \n",
    "plt.legend()"
   ]
  },
  {
   "cell_type": "code",
   "execution_count": null,
   "id": "instrumental-subscription",
   "metadata": {
    "scrolled": false
   },
   "outputs": [],
   "source": [
    "# Plot posterior predictive comparison of n random samples\n",
    "cmap = cm.Blues\n",
    "plot_ppc(t, ts, labels, sel_x_test, ps=True, cmedian='Blue')"
   ]
  }
 ],
 "metadata": {
  "kernelspec": {
   "display_name": "Python 3",
   "language": "python",
   "name": "python3"
  },
  "language_info": {
   "codemirror_mode": {
    "name": "ipython",
    "version": 3
   },
   "file_extension": ".py",
   "mimetype": "text/x-python",
   "name": "python",
   "nbconvert_exporter": "python",
   "pygments_lexer": "ipython3",
   "version": "3.8.2"
  }
 },
 "nbformat": 4,
 "nbformat_minor": 5
}
