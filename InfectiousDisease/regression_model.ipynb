{
 "cells": [
  {
   "cell_type": "code",
   "execution_count": 1,
   "metadata": {},
   "outputs": [],
   "source": [
    "import numpy as np\n",
    "import tensorflow as tf\n",
    "import pandas as pd\n",
    "import matplotlib.pyplot as plt\n",
    "import seaborn as sns\n",
    "\n",
    "from scipy import stats\n",
    "from tqdm import tqdm\n",
    "from tensorflow.keras.regularizers import l2\n",
    "from functools import partial\n",
    "\n",
    "# Data\n",
    "from data.data_generator import data_generator\n",
    "from data.data_generator import data_model\n",
    "from data.data_filtering import (sanity_checks, est_sanity_checks)\n",
    "\n",
    "# Model\n",
    "from models.models import HeteroskedasticModel\n",
    "from models.models import BayesFlow\n",
    "\n",
    "# Utils\n",
    "from utils.losses import heteroskedastic_loss, maximum_likelihood_loss\n",
    "from utils.training import train_step\n",
    "from utils.viz import plot_true_est_scatter\n",
    "from utils.viz import plot_true_est_posterior\n",
    "from utils.viz import plot_correlation_parameters\n",
    "from utils.viz import plot_comp_post_prior\n",
    "# from utils.viz import plot_variance"
   ]
  },
  {
   "cell_type": "code",
   "execution_count": 2,
   "metadata": {},
   "outputs": [],
   "source": [
    "%load_ext autoreload\n",
    "%autoreload 2"
   ]
  },
  {
   "cell_type": "code",
   "execution_count": 3,
   "metadata": {},
   "outputs": [],
   "source": [
    "# Using Heteroskedastic model as summary net\n",
    "class SummaryNet(tf.keras.Model):\n",
    "    def __init__(self, meta):\n",
    "        super(CustomSummaryNetwork, self).__init__()\n",
    "        pass\n",
    "    \n",
    "    def call(self, x):\n",
    "        \"\"\"\n",
    "        Performs a forward pass through the summary network\n",
    "        Arguments:\n",
    "        x : tf.Tensor of shape (batch_size, n_obs, x_dim) - a batch of samples from p(x|params)\n",
    "        \"\"\"\n",
    "        \n",
    "        # Do something with input\n",
    "        \n",
    "        return x"
   ]
  },
  {
   "cell_type": "markdown",
   "metadata": {},
   "source": [
    "### Training hyperparameters"
   ]
  },
  {
   "cell_type": "code",
   "execution_count": 4,
   "metadata": {},
   "outputs": [],
   "source": [
    "# Network hyperparameters\n",
    "inv_meta = {\n",
    "    'n_units': [64, 64, 64],\n",
    "    'activation': 'elu',\n",
    "    'w_decay': 0.0,\n",
    "    'initializer': 'glorot_uniform'\n",
    "}\n",
    "n_inv_blocks = 5\n",
    "\n",
    "# Optional if using the predefined summary nets\n",
    "summary_meta = {\n",
    "    'n_units': [192, 192, 192],\n",
    "    'activation': 'elu',\n",
    "    'w_decay': 0.0,\n",
    "    'initializer': 'glorot_uniform'\n",
    "}\n",
    "\n",
    "\n",
    "# Forward model hyperparameters\n",
    "parameter_names = [r'$\\beta$', r'$\\alpha$', r'$\\gamma$', r'$\\delta$', r'$\\rho$']\n",
    "theta_dim = len(parameter_names)\n",
    "n_test = 500\n",
    "\n",
    "\n",
    "# Training and optimizer hyperparameters\n",
    "ckpt_file = \"SEIDR\"\n",
    "batch_size = 64\n",
    "epochs = 100\n",
    "iterations_per_epoch = 1000\n",
    "n_samples_posterior = 2000\n",
    "\n",
    "starter_learning_rate = 0.001\n",
    "global_step = tf.Variable(0, dtype=tf.int32)\n",
    "decay_steps = 1000\n",
    "decay_rate = .95\n",
    "learning_rate = tf.keras.optimizers.schedules.ExponentialDecay(starter_learning_rate, decay_steps, decay_rate)\n",
    "optimizer = tf.keras.optimizers.Adam(learning_rate)"
   ]
  },
  {
   "cell_type": "markdown",
   "metadata": {},
   "source": [
    "### Test Data"
   ]
  },
  {
   "cell_type": "code",
   "execution_count": 5,
   "metadata": {},
   "outputs": [
    {
     "name": "stdout",
     "output_type": "stream",
     "text": [
      "CPU times: user 144 ms, sys: 4.36 ms, total: 149 ms\n",
      "Wall time: 146 ms\n"
     ]
    }
   ],
   "source": [
    "%%time\n",
    "data_test = data_generator(n_test)\n",
    "\n",
    "# Preprocessing untrained data\n",
    "x_test = np.array(data_test['x'])\n",
    "theta_test = np.array(data_test['theta'])"
   ]
  },
  {
   "cell_type": "code",
   "execution_count": 6,
   "metadata": {},
   "outputs": [
    {
     "name": "stdout",
     "output_type": "stream",
     "text": [
      "<class 'numpy.ndarray'>\n",
      "(500, 100, 5)\n",
      "<class 'numpy.ndarray'>\n",
      "(500, 5)\n"
     ]
    }
   ],
   "source": [
    "print(type(x_test))\n",
    "print(x_test.shape)\n",
    "print(type(theta_test))\n",
    "print(theta_test.shape)"
   ]
  },
  {
   "cell_type": "code",
   "execution_count": 7,
   "metadata": {},
   "outputs": [],
   "source": [
    "# Sanity checks\n",
    "x_test, theta_test = sanity_checks(x_test, theta_test)\n",
    "\n",
    "# Sanity checks for numerical stability\n",
    "assert(np.sum(x_test == np.inf) == 0)\n",
    "assert(np.sum(x_test == -np.inf) == 0)\n",
    "assert(np.sum(x_test == np.nan) == 0)\n",
    "\n",
    "# Reshape x\n",
    "x_test = x_test.reshape(x_test.shape[0], -1)"
   ]
  },
  {
   "cell_type": "code",
   "execution_count": 8,
   "metadata": {},
   "outputs": [
    {
     "name": "stdout",
     "output_type": "stream",
     "text": [
      "(500, 500)\n",
      "(500, 5)\n"
     ]
    }
   ],
   "source": [
    "print(x_test.shape)\n",
    "print(theta_test.shape)"
   ]
  },
  {
   "cell_type": "markdown",
   "metadata": {},
   "source": [
    "### Networks"
   ]
  },
  {
   "cell_type": "code",
   "execution_count": 9,
   "metadata": {},
   "outputs": [],
   "source": [
    "# Instantiate model\n",
    "summary_net = HeteroskedasticModel(summary_meta)\n",
    "model = BayesFlow(inv_meta, n_inv_blocks, theta_dim, summary_net=summary_net, permute=True)"
   ]
  },
  {
   "cell_type": "markdown",
   "metadata": {},
   "source": [
    "### Compile"
   ]
  },
  {
   "cell_type": "code",
   "execution_count": 10,
   "metadata": {
    "scrolled": false
   },
   "outputs": [
    {
     "data": {
      "image/png": "[encoded data removed]",
      "text/plain": [
       "<Figure size 864x288 with 5 Axes>"
      ]
     },
     "metadata": {
      "needs_background": "light"
     },
     "output_type": "display_data"
    }
   ],
   "source": [
    "plot_true_est_scatter(model, x_test, theta_test, n_samples_posterior, parameter_names, figsize=(12, 4))"
   ]
  },
  {
   "cell_type": "markdown",
   "metadata": {},
   "source": [
    "### Manage Checkpoints"
   ]
  },
  {
   "cell_type": "code",
   "execution_count": 11,
   "metadata": {},
   "outputs": [
    {
     "name": "stdout",
     "output_type": "stream",
     "text": [
      "Restored from ./checkpoints/SEIDR/ckpt-612\n"
     ]
    }
   ],
   "source": [
    "checkpoint = tf.train.Checkpoint(step=global_step, optimizer=optimizer, net=model)\n",
    "manager = tf.train.CheckpointManager(checkpoint, './checkpoints/{}'.format(ckpt_file), max_to_keep=3)\n",
    "checkpoint.restore(manager.latest_checkpoint)\n",
    "if manager.latest_checkpoint:\n",
    "    print(\"Restored from {}\".format(manager.latest_checkpoint))\n",
    "else:\n",
    "    print(\"Initializing from scratch.\")"
   ]
  },
  {
   "cell_type": "markdown",
   "metadata": {},
   "source": [
    "### Training network"
   ]
  },
  {
   "cell_type": "code",
   "execution_count": 12,
   "metadata": {
    "scrolled": true
   },
   "outputs": [
    {
     "name": "stderr",
     "output_type": "stream",
     "text": [
      "Training epoch 1: 100%|██████████| 1000/1000 [01:45<00:00,  9.47it/s, Iteration: 1000, Loss: -31.693546295166016]\n",
      "Training epoch 2: 100%|██████████| 1000/1000 [01:45<00:00,  9.45it/s, Iteration: 1000, Loss: -31.474353790283203]\n",
      "Training epoch 3: 100%|██████████| 1000/1000 [01:45<00:00,  9.48it/s, Iteration: 1000, Loss: -31.9438533782959]\n",
      "Training epoch 4: 100%|██████████| 1000/1000 [01:42<00:00,  9.72it/s, Iteration: 1000, Loss: -32.13715362548828]\n",
      "Training epoch 5: 100%|██████████| 1000/1000 [01:38<00:00, 10.19it/s, Iteration: 1000, Loss: -31.79978370666504]\n",
      "Training epoch 6: 100%|██████████| 1000/1000 [01:42<00:00,  9.72it/s, Iteration: 1000, Loss: -31.744625091552734]\n",
      "Training epoch 7: 100%|██████████| 1000/1000 [01:42<00:00,  9.76it/s, Iteration: 1000, Loss: -31.30829620361328]\n",
      "Training epoch 8: 100%|██████████| 1000/1000 [01:41<00:00,  9.83it/s, Iteration: 1000, Loss: -31.876792907714844]\n",
      "Training epoch 9: 100%|██████████| 1000/1000 [01:45<00:00,  9.45it/s, Iteration: 1000, Loss: -31.689502716064453]\n",
      "Training epoch 10: 100%|██████████| 1000/1000 [01:43<00:00,  9.63it/s, Iteration: 1000, Loss: -31.975082397460938]\n",
      "Training epoch 11: 100%|██████████| 1000/1000 [01:45<00:00,  9.48it/s, Iteration: 1000, Loss: -31.706485748291016]\n",
      "Training epoch 12: 100%|██████████| 1000/1000 [01:46<00:00,  9.41it/s, Iteration: 1000, Loss: -31.57883071899414]\n",
      "Training epoch 13: 100%|██████████| 1000/1000 [01:44<00:00,  9.55it/s, Iteration: 1000, Loss: -32.079410552978516]\n",
      "Training epoch 14: 100%|██████████| 1000/1000 [01:43<00:00,  9.66it/s, Iteration: 1000, Loss: -31.57602310180664]\n",
      "Training epoch 15: 100%|██████████| 1000/1000 [01:45<00:00,  9.45it/s, Iteration: 1000, Loss: -31.605167388916016]\n",
      "Training epoch 16: 100%|██████████| 1000/1000 [01:43<00:00,  9.66it/s, Iteration: 1000, Loss: -31.794950485229492]\n",
      "Training epoch 17: 100%|██████████| 1000/1000 [01:38<00:00, 10.12it/s, Iteration: 1000, Loss: -31.77022361755371]\n",
      "Training epoch 18: 100%|██████████| 1000/1000 [01:38<00:00, 10.16it/s, Iteration: 1000, Loss: -31.54857635498047]\n",
      "Training epoch 19: 100%|██████████| 1000/1000 [01:38<00:00, 10.17it/s, Iteration: 1000, Loss: -31.560718536376953]\n",
      "Training epoch 20: 100%|██████████| 1000/1000 [01:38<00:00, 10.12it/s, Iteration: 1000, Loss: -31.58017921447754]\n",
      "Training epoch 21: 100%|██████████| 1000/1000 [01:38<00:00, 10.14it/s, Iteration: 1000, Loss: -32.03761291503906]\n",
      "Training epoch 22: 100%|██████████| 1000/1000 [01:38<00:00, 10.15it/s, Iteration: 1000, Loss: -31.771759033203125]\n",
      "Training epoch 23: 100%|██████████| 1000/1000 [16:51<00:00,  1.01s/it, Iteration: 1000, Loss: -31.721834182739258]  \n",
      "Training epoch 24: 100%|██████████| 1000/1000 [01:45<00:00,  9.50it/s, Iteration: 1000, Loss: -31.54120635986328]\n",
      "Training epoch 25: 100%|██████████| 1000/1000 [01:46<00:00,  9.37it/s, Iteration: 1000, Loss: -31.460140228271484]\n",
      "Training epoch 26: 100%|██████████| 1000/1000 [01:43<00:00,  9.62it/s, Iteration: 1000, Loss: -31.79665756225586]\n",
      "Training epoch 27: 100%|██████████| 1000/1000 [01:45<00:00,  9.48it/s, Iteration: 1000, Loss: -31.634002685546875]\n",
      "Training epoch 28: 100%|██████████| 1000/1000 [01:45<00:00,  9.48it/s, Iteration: 1000, Loss: -31.922237396240234]\n",
      "Training epoch 29: 100%|██████████| 1000/1000 [01:41<00:00,  9.82it/s, Iteration: 1000, Loss: -31.86199951171875]\n",
      "Training epoch 30: 100%|██████████| 1000/1000 [01:42<00:00,  9.80it/s, Iteration: 1000, Loss: -31.542814254760742]\n",
      "Training epoch 31: 100%|██████████| 1000/1000 [01:43<00:00,  9.66it/s, Iteration: 1000, Loss: -31.830076217651367]\n",
      "Training epoch 32: 100%|██████████| 1000/1000 [01:44<00:00,  9.57it/s, Iteration: 1000, Loss: -31.468238830566406]\n",
      "Training epoch 33: 100%|██████████| 1000/1000 [01:42<00:00,  9.73it/s, Iteration: 1000, Loss: -31.659467697143555]\n",
      "Training epoch 34: 100%|██████████| 1000/1000 [01:44<00:00,  9.61it/s, Iteration: 1000, Loss: -31.381576538085938]\n",
      "Training epoch 35: 100%|██████████| 1000/1000 [01:43<00:00,  9.68it/s, Iteration: 1000, Loss: -31.910539627075195]\n",
      "Training epoch 36: 100%|██████████| 1000/1000 [01:42<00:00,  9.76it/s, Iteration: 1000, Loss: -31.54389190673828]\n",
      "Training epoch 37: 100%|██████████| 1000/1000 [01:43<00:00,  9.66it/s, Iteration: 1000, Loss: -32.02151870727539]\n",
      "Training epoch 38: 100%|██████████| 1000/1000 [01:43<00:00,  9.69it/s, Iteration: 1000, Loss: -31.75067901611328]\n",
      "Training epoch 39: 100%|██████████| 1000/1000 [01:44<00:00,  9.54it/s, Iteration: 1000, Loss: -32.24784469604492]\n",
      "Training epoch 40: 100%|██████████| 1000/1000 [01:43<00:00,  9.65it/s, Iteration: 1000, Loss: -31.656248092651367]\n",
      "Training epoch 41: 100%|██████████| 1000/1000 [01:44<00:00,  9.58it/s, Iteration: 1000, Loss: -31.362709045410156]\n",
      "Training epoch 42: 100%|██████████| 1000/1000 [01:43<00:00,  9.63it/s, Iteration: 1000, Loss: -31.675827026367188]\n",
      "Training epoch 43: 100%|██████████| 1000/1000 [01:45<00:00,  9.50it/s, Iteration: 1000, Loss: -31.61748504638672]\n",
      "Training epoch 44: 100%|██████████| 1000/1000 [01:46<00:00,  9.42it/s, Iteration: 1000, Loss: -32.07533264160156]\n",
      "Training epoch 45: 100%|██████████| 1000/1000 [01:45<00:00,  9.51it/s, Iteration: 1000, Loss: -31.423065185546875]\n",
      "Training epoch 46: 100%|██████████| 1000/1000 [01:45<00:00,  9.50it/s, Iteration: 1000, Loss: -31.418914794921875]\n",
      "Training epoch 47: 100%|██████████| 1000/1000 [01:44<00:00,  9.58it/s, Iteration: 1000, Loss: -31.351837158203125]\n",
      "Training epoch 48: 100%|██████████| 1000/1000 [01:42<00:00,  9.75it/s, Iteration: 1000, Loss: -31.558115005493164]\n",
      "Training epoch 49: 100%|██████████| 1000/1000 [01:43<00:00,  9.68it/s, Iteration: 1000, Loss: -32.049625396728516]\n",
      "Training epoch 50: 100%|██████████| 1000/1000 [01:44<00:00,  9.54it/s, Iteration: 1000, Loss: -32.003074645996094]\n",
      "Training epoch 51: 100%|██████████| 1000/1000 [01:45<00:00,  9.52it/s, Iteration: 1000, Loss: -31.796432495117188]\n",
      "Training epoch 52: 100%|██████████| 1000/1000 [01:45<00:00,  9.52it/s, Iteration: 1000, Loss: -32.016632080078125]\n",
      "Training epoch 53: 100%|██████████| 1000/1000 [01:44<00:00,  9.57it/s, Iteration: 1000, Loss: -31.386173248291016]\n",
      "Training epoch 54: 100%|██████████| 1000/1000 [01:43<00:00,  9.64it/s, Iteration: 1000, Loss: -32.01129150390625]\n",
      "Training epoch 55: 100%|██████████| 1000/1000 [01:42<00:00,  9.72it/s, Iteration: 1000, Loss: -31.448486328125] \n",
      "Training epoch 56: 100%|██████████| 1000/1000 [01:42<00:00,  9.79it/s, Iteration: 1000, Loss: -32.11918258666992]\n",
      "Training epoch 57: 100%|██████████| 1000/1000 [01:42<00:00,  9.75it/s, Iteration: 1000, Loss: -31.447174072265625]\n",
      "Training epoch 58: 100%|██████████| 1000/1000 [01:41<00:00,  9.82it/s, Iteration: 1000, Loss: -31.810773849487305]\n",
      "Training epoch 59: 100%|██████████| 1000/1000 [01:41<00:00,  9.84it/s, Iteration: 1000, Loss: -31.35947036743164]\n",
      "Training epoch 60: 100%|██████████| 1000/1000 [01:41<00:00,  9.87it/s, Iteration: 1000, Loss: -32.12733459472656]\n",
      "Training epoch 61: 100%|██████████| 1000/1000 [01:43<00:00,  9.69it/s, Iteration: 1000, Loss: -31.95182991027832]\n",
      "Training epoch 62: 100%|██████████| 1000/1000 [01:42<00:00,  9.72it/s, Iteration: 1000, Loss: -31.857879638671875]\n",
      "Training epoch 63: 100%|██████████| 1000/1000 [01:44<00:00,  9.55it/s, Iteration: 1000, Loss: -31.662052154541016]\n",
      "Training epoch 64: 100%|██████████| 1000/1000 [01:42<00:00,  9.73it/s, Iteration: 1000, Loss: -31.560569763183594]\n",
      "Training epoch 65: 100%|██████████| 1000/1000 [01:42<00:00,  9.73it/s, Iteration: 1000, Loss: -31.889402389526367]\n",
      "Training epoch 66: 100%|██████████| 1000/1000 [01:43<00:00,  9.68it/s, Iteration: 1000, Loss: -32.066776275634766]\n",
      "Training epoch 67: 100%|██████████| 1000/1000 [01:41<00:00,  9.84it/s, Iteration: 1000, Loss: -31.631961822509766]\n",
      "Training epoch 68: 100%|██████████| 1000/1000 [01:41<00:00,  9.85it/s, Iteration: 1000, Loss: -31.55532455444336]\n",
      "Training epoch 69: 100%|██████████| 1000/1000 [01:41<00:00,  9.84it/s, Iteration: 1000, Loss: -31.715831756591797]\n",
      "Training epoch 70: 100%|██████████| 1000/1000 [01:42<00:00,  9.80it/s, Iteration: 1000, Loss: -31.96900177001953]\n",
      "Training epoch 71: 100%|██████████| 1000/1000 [01:42<00:00,  9.78it/s, Iteration: 1000, Loss: -31.810169219970703]\n",
      "Training epoch 72: 100%|██████████| 1000/1000 [01:41<00:00,  9.86it/s, Iteration: 1000, Loss: -31.576335906982422]\n",
      "Training epoch 73: 100%|██████████| 1000/1000 [01:42<00:00,  9.74it/s, Iteration: 1000, Loss: -31.808551788330078]\n",
      "Training epoch 74: 100%|██████████| 1000/1000 [01:42<00:00,  9.75it/s, Iteration: 1000, Loss: -31.821508407592773]\n",
      "Training epoch 75: 100%|██████████| 1000/1000 [01:40<00:00,  9.96it/s, Iteration: 1000, Loss: -31.693206787109375]\n",
      "Training epoch 76: 100%|██████████| 1000/1000 [01:41<00:00,  9.81it/s, Iteration: 1000, Loss: -31.997013092041016]\n",
      "Training epoch 77: 100%|██████████| 1000/1000 [01:43<00:00,  9.69it/s, Iteration: 1000, Loss: -32.132450103759766]\n",
      "Training epoch 78: 100%|██████████| 1000/1000 [01:40<00:00,  9.94it/s, Iteration: 1000, Loss: -31.733694076538086]\n",
      "Training epoch 79: 100%|██████████| 1000/1000 [01:41<00:00,  9.84it/s, Iteration: 1000, Loss: -31.63675308227539]\n",
      "Training epoch 80: 100%|██████████| 1000/1000 [01:40<00:00,  9.92it/s, Iteration: 1000, Loss: -31.277427673339844]\n",
      "Training epoch 81: 100%|██████████| 1000/1000 [01:41<00:00,  9.88it/s, Iteration: 1000, Loss: -31.746341705322266]\n",
      "Training epoch 82: 100%|██████████| 1000/1000 [01:41<00:00,  9.86it/s, Iteration: 1000, Loss: -31.70050811767578]\n",
      "Training epoch 83: 100%|██████████| 1000/1000 [01:40<00:00,  9.91it/s, Iteration: 1000, Loss: -31.649139404296875]\n",
      "Training epoch 84: 100%|██████████| 1000/1000 [01:40<00:00,  9.92it/s, Iteration: 1000, Loss: -31.685670852661133]\n",
      "Training epoch 85: 100%|██████████| 1000/1000 [01:41<00:00,  9.89it/s, Iteration: 1000, Loss: -31.370628356933594]\n",
      "Training epoch 86: 100%|██████████| 1000/1000 [01:41<00:00,  9.82it/s, Iteration: 1000, Loss: -32.08363342285156]\n",
      "Training epoch 87: 100%|██████████| 1000/1000 [01:41<00:00,  9.89it/s, Iteration: 1000, Loss: -31.39404296875]  \n",
      "Training epoch 88: 100%|██████████| 1000/1000 [01:40<00:00,  9.92it/s, Iteration: 1000, Loss: -31.76142692565918]\n",
      "Training epoch 89: 100%|██████████| 1000/1000 [01:41<00:00,  9.90it/s, Iteration: 1000, Loss: -31.80813980102539]\n",
      "Training epoch 90: 100%|██████████| 1000/1000 [01:41<00:00,  9.85it/s, Iteration: 1000, Loss: -31.947280883789062]\n",
      "Training epoch 91: 100%|██████████| 1000/1000 [01:41<00:00,  9.88it/s, Iteration: 1000, Loss: -31.735918045043945]\n",
      "Training epoch 92: 100%|██████████| 1000/1000 [01:41<00:00,  9.86it/s, Iteration: 1000, Loss: -31.977846145629883]\n",
      "Training epoch 93: 100%|██████████| 1000/1000 [01:42<00:00,  9.80it/s, Iteration: 1000, Loss: -31.678794860839844]\n",
      "Training epoch 94: 100%|██████████| 1000/1000 [01:41<00:00,  9.84it/s, Iteration: 1000, Loss: -31.666275024414062]\n",
      "Training epoch 95: 100%|██████████| 1000/1000 [01:41<00:00,  9.86it/s, Iteration: 1000, Loss: -31.90630340576172]\n",
      "Training epoch 96: 100%|██████████| 1000/1000 [01:43<00:00,  9.62it/s, Iteration: 1000, Loss: -31.536409378051758]\n",
      "Training epoch 97: 100%|██████████| 1000/1000 [01:45<00:00,  9.45it/s, Iteration: 1000, Loss: -32.050106048583984]\n",
      "Training epoch 98: 100%|██████████| 1000/1000 [01:44<00:00,  9.54it/s, Iteration: 1000, Loss: -31.97868537902832]\n",
      "Training epoch 99: 100%|██████████| 1000/1000 [01:44<00:00,  9.61it/s, Iteration: 1000, Loss: -31.84751319885254]\n",
      "Training epoch 100: 100%|██████████| 1000/1000 [01:43<00:00,  9.64it/s, Iteration: 1000, Loss: -31.573402404785156]\n"
     ]
    }
   ],
   "source": [
    "# %%time\n",
    "for ep in range(1, epochs + 1):\n",
    "    with tqdm(total=iterations_per_epoch, desc='Training epoch {}'.format(ep)) as p_bar:\n",
    "        losses = train_step(model=model, \n",
    "                            optimizer=optimizer,\n",
    "                            loss_fn=maximum_likelihood_loss, \n",
    "                            iterations=iterations_per_epoch,\n",
    "                            batch_size=batch_size,\n",
    "                            p_bar=p_bar,\n",
    "                            global_step=global_step) \n",
    "\n",
    "        # Manage checkpoint\n",
    "        manager.save()"
   ]
  },
  {
   "cell_type": "markdown",
   "metadata": {},
   "source": [
    "### Posterior means & Full posteriors"
   ]
  },
  {
   "cell_type": "code",
   "execution_count": null,
   "metadata": {},
   "outputs": [],
   "source": [
    "# Estimation sanity checks\n",
    "theta_approx_means = model.sample(x_test, n_samples_posterior, to_numpy=True).mean(axis=0)\n",
    "theta_approx_means, y_test, theta_test = est_sanity_checks(theta_approx_means, theta_test)"
   ]
  },
  {
   "cell_type": "code",
   "execution_count": null,
   "metadata": {},
   "outputs": [],
   "source": [
    "print(theta_approx_means.shape)\n",
    "print(y_test.shape)"
   ]
  },
  {
   "cell_type": "code",
   "execution_count": null,
   "metadata": {},
   "outputs": [],
   "source": [
    "plot_true_est_scatter(model, x_test, y_test, n_samples_posterior, parameter_names, figsize=(12, 3), theta_approx_means=theta_approx_means)\n",
    "\n",
    "plot_true_est_posterior(model, 2000, parameter_names, font_size=8,\n",
    "                        X_test=x_test[:5], \n",
    "                        theta_test=theta_test[:5], figsize=(12, 8))"
   ]
  },
  {
   "cell_type": "markdown",
   "metadata": {},
   "source": [
    "### Correlation of parameters"
   ]
  },
  {
   "cell_type": "code",
   "execution_count": null,
   "metadata": {},
   "outputs": [],
   "source": [
    "theta_approx_means = model.sample(x_test, n_samples_posterior, to_numpy=True).mean(axis=0)\n",
    "# comp_parametr_names = np.array((parameter_names[4], parameter_names[1]))"
   ]
  },
  {
   "cell_type": "code",
   "execution_count": null,
   "metadata": {},
   "outputs": [],
   "source": [
    "plot_correlation_parameters(theta_approx_means, parameter_names)"
   ]
  },
  {
   "cell_type": "markdown",
   "metadata": {},
   "source": [
    "### Re-simulation"
   ]
  },
  {
   "cell_type": "code",
   "execution_count": null,
   "metadata": {},
   "outputs": [],
   "source": [
    "n_samples = 2000\n",
    "theta_samples = model.sample(x_test, n_samples_posterior, to_numpy=True)"
   ]
  },
  {
   "cell_type": "code",
   "execution_count": null,
   "metadata": {},
   "outputs": [],
   "source": [
    "# Select random sample\n",
    "rand_sample_idx = np.random.choice(theta_samples.shape[0], 1, replace=False)\n",
    "sel_sample = theta_samples[rand_sample_idx].squeeze()\n",
    "filt_sel_sample, y_test, _ = est_sanity_checks(sel_sample, theta_test)"
   ]
  },
  {
   "cell_type": "code",
   "execution_count": null,
   "metadata": {},
   "outputs": [],
   "source": [
    "# Forward model using selected sample\n",
    "t_obs = 100\n",
    "dt = 1\n",
    "t = np.linspace(0, t_obs, int(t_obs/dt))\n",
    "N = 10000\n",
    "init_vals = 1 - 1/N, 1/N, 0, 0, 0\n",
    "forward_model = partial(data_model, initial_values=init_vals)\n",
    "\n",
    "ts = np.empty((filt_sel_sample.shape[0], t_obs, 5))\n",
    "          \n",
    "for i in range(filt_sel_sample.shape[0]):\n",
    "    ts[i, :, :] = forward_model(filt_sel_sample[i, :], t=t)\n",
    "\n",
    "ts = ts.reshape(sel_sample.shape[0], -1)"
   ]
  },
  {
   "cell_type": "code",
   "execution_count": null,
   "metadata": {},
   "outputs": [],
   "source": [
    "plot_true_est_scatter(model, ts, y_test, n_samples_posterior, parameter_names, figsize=(12, 3), theta_approx_means=filt_sel_sample)"
   ]
  },
  {
   "cell_type": "markdown",
   "metadata": {},
   "source": [
    "### Compartiment time series"
   ]
  },
  {
   "cell_type": "code",
   "execution_count": null,
   "metadata": {},
   "outputs": [],
   "source": [
    "# Estimation sanity check\n",
    "rand_test_data_index = np.random.choice(filt_sel_sample.shape[0], 1, replace=False)\n",
    "sel_params = filt_sel_sample[rand_test_data_index].squeeze()\n",
    "sel_params.shape"
   ]
  },
  {
   "cell_type": "code",
   "execution_count": null,
   "metadata": {},
   "outputs": [],
   "source": [
    "# parameters = np.array([0.97, 0.5, 0.17, 0.12, 0.07])\n",
    "parameters = sel_params\n",
    "\n",
    "ts = forward_model(parameters, t=t)\n",
    "labels = ['S', 'E', 'I', 'R', 'D']\n",
    "print(ts.shape)"
   ]
  },
  {
   "cell_type": "code",
   "execution_count": null,
   "metadata": {},
   "outputs": [],
   "source": [
    "f, ax = plt.subplots(1, 1, figsize=(15, 10))\n",
    "for i in range(5):\n",
    "    ax.plot(ts[:, i], label=labels[i], lw=2)\n",
    "\n",
    "plt.legend()\n",
    "ts_t = tf.convert_to_tensor(ts[np.newaxis].reshape(1, -1), dtype=tf.float32)\n",
    "\n",
    "\n",
    "theta_hat = model.sample(ts_t, 5000, to_numpy=True)\n",
    "\n",
    "f, axarr = plt.subplots(1, 5, figsize=(12, 3))\n",
    "for i in range(5):\n",
    "    sns.distplot(theta_hat[:, i], ax=axarr[i], kde=False)\n",
    "    axarr[i].axvline(parameters[i], color='black')\n",
    "    \n",
    "f.tight_layout()"
   ]
  },
  {
   "cell_type": "markdown",
   "metadata": {},
   "source": [
    "### Variances"
   ]
  },
  {
   "cell_type": "code",
   "execution_count": 29,
   "metadata": {},
   "outputs": [],
   "source": []
  }
 ],
 "metadata": {
  "kernelspec": {
   "display_name": "Python 3",
   "language": "python",
   "name": "python3"
  },
  "language_info": {
   "codemirror_mode": {
    "name": "ipython",
    "version": 3
   },
   "file_extension": ".py",
   "mimetype": "text/x-python",
   "name": "python",
   "nbconvert_exporter": "python",
   "pygments_lexer": "ipython3",
   "version": "3.8.2"
  }
 },
 "nbformat": 4,
 "nbformat_minor": 4
}
