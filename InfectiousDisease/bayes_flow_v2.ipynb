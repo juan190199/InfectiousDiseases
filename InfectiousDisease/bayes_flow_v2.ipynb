{
 "cells": [
  {
   "cell_type": "code",
   "execution_count": 1,
   "id": "atlantic-driving",
   "metadata": {},
   "outputs": [],
   "source": [
    "import numpy as np\n",
    "import tensorflow as tf\n",
    "\n",
    "from scipy import stats\n",
    "from sklearn.metrics import r2_score\n",
    "from tqdm import tqdm\n",
    "from tensorflow.keras.regularizers import l2\n",
    "from functools import partial\n",
    "\n",
    "import matplotlib.pyplot as plt\n",
    "import pandas as pd\n",
    "from matplotlib import cm\n",
    "import seaborn as sns\n",
    "\n",
    "# Data\n",
    "from data.data_generator import data_generator\n",
    "from data.data_generator import data_model\n",
    "from data.data_filtering import (sanity_checks, est_sanity_checks, sample_sanity_checks)\n",
    "\n",
    "# Model\n",
    "from models.models import HeteroskedasticModel\n",
    "from models.models import BayesFlow\n",
    "\n",
    "# Utils\n",
    "from utils.losses import heteroskedastic_loss, maximum_likelihood_loss\n",
    "from utils.training import train_step\n",
    "from utils.viz import (plot_true_est_scatter, plot_true_est_posterior, \n",
    "                       plot_correlation_parameters, plot_comp_post_prior, plot_ppc)\n",
    "\n",
    "%load_ext autoreload\n",
    "%autoreload 2"
   ]
  },
  {
   "cell_type": "code",
   "execution_count": 2,
   "id": "alien-watershed",
   "metadata": {},
   "outputs": [],
   "source": [
    "# Using Heteroskedastic model as summary net\n",
    "class SummaryNet(tf.keras.Model):\n",
    "    def __init__(self, meta):\n",
    "        super(CustomSummaryNetwork, self).__init__()\n",
    "        pass\n",
    "    \n",
    "    def call(self, x):\n",
    "        \"\"\"\n",
    "        Performs a forward pass through the summary network\n",
    "        Arguments:\n",
    "        x : tf.Tensor of shape (batch_size, n_obs, x_dim) - a batch of samples from p(x|params)\n",
    "        \"\"\"\n",
    "        \n",
    "        # Do something with input\n",
    "        return x"
   ]
  },
  {
   "cell_type": "markdown",
   "id": "entire-amplifier",
   "metadata": {},
   "source": [
    "### Training Hyperparameters"
   ]
  },
  {
   "cell_type": "code",
   "execution_count": 3,
   "id": "urban-knight",
   "metadata": {},
   "outputs": [],
   "source": [
    "# Network hyperparameters\n",
    "inv_meta = {\n",
    "    'n_units': [64, 64, 64],\n",
    "    'activation': 'elu',\n",
    "    'w_decay': 0.0,\n",
    "    'initializer': 'glorot_uniform'\n",
    "}\n",
    "n_inv_blocks = 5\n",
    "\n",
    "# Optional if using the predefined summary nets\n",
    "summary_meta = {\n",
    "    'n_units': [192, 192, 192],\n",
    "    'activation': 'elu',\n",
    "    'w_decay': 0.0,\n",
    "    'initializer': 'glorot_uniform'\n",
    "}\n",
    "\n",
    "\n",
    "# Forward model hyperparameters\n",
    "parameter_names = [r'$\\beta$', r'$\\alpha$', r'$\\gamma$', r'$\\delta$', r'$\\eta$']\n",
    "theta_dim = len(parameter_names)\n",
    "n_test = 500\n",
    "\n",
    "\n",
    "# Training and optimizer hyperparameters\n",
    "ckpt_file = \"SEIDR_v2\"\n",
    "batch_size = 64\n",
    "epochs = 100\n",
    "iterations_per_epoch = 1000\n",
    "n_samples_posterior = 2000\n",
    "\n",
    "starter_learning_rate = 0.001\n",
    "global_step = tf.Variable(0, dtype=tf.int32)\n",
    "decay_steps = 1000\n",
    "decay_rate = .95\n",
    "learning_rate = tf.keras.optimizers.schedules.ExponentialDecay(starter_learning_rate, decay_steps, decay_rate)\n",
    "optimizer = tf.keras.optimizers.Adam(learning_rate)"
   ]
  },
  {
   "cell_type": "markdown",
   "id": "mounted-humor",
   "metadata": {},
   "source": [
    "### Test Data"
   ]
  },
  {
   "cell_type": "code",
   "execution_count": 4,
   "id": "buried-munich",
   "metadata": {},
   "outputs": [
    {
     "name": "stdout",
     "output_type": "stream",
     "text": [
      "CPU times: user 130 ms, sys: 1.98 ms, total: 132 ms\n",
      "Wall time: 131 ms\n"
     ]
    }
   ],
   "source": [
    "%%time\n",
    "data_test = data_generator(n_test)\n",
    "\n",
    "# Preprocessing untrained data\n",
    "x_test = np.array(data_test['x'])\n",
    "theta_test = np.array(data_test['theta'])"
   ]
  },
  {
   "cell_type": "code",
   "execution_count": 5,
   "id": "amino-adolescent",
   "metadata": {
    "scrolled": true
   },
   "outputs": [
    {
     "name": "stdout",
     "output_type": "stream",
     "text": [
      "<class 'numpy.ndarray'>\n",
      "(500, 100, 5)\n",
      "<class 'numpy.ndarray'>\n",
      "(500, 5)\n"
     ]
    }
   ],
   "source": [
    "print(type(x_test))\n",
    "print(x_test.shape)\n",
    "print(type(theta_test))\n",
    "print(theta_test.shape)"
   ]
  },
  {
   "cell_type": "code",
   "execution_count": 6,
   "id": "bigger-statistics",
   "metadata": {},
   "outputs": [],
   "source": [
    "# Sanity checks\n",
    "x_test, theta_test = sanity_checks(x_test, theta_test)\n",
    "\n",
    "# Sanity checks for numerical stability\n",
    "assert(np.sum(x_test == np.inf) == 0)\n",
    "assert(np.sum(x_test == -np.inf) == 0)\n",
    "assert(np.sum(x_test == np.nan) == 0)\n",
    "\n",
    "# Reshape x\n",
    "x_test = x_test.reshape(x_test.shape[0], -1)"
   ]
  },
  {
   "cell_type": "code",
   "execution_count": 7,
   "id": "anonymous-windsor",
   "metadata": {},
   "outputs": [
    {
     "name": "stdout",
     "output_type": "stream",
     "text": [
      "(500, 500)\n",
      "(500, 5)\n"
     ]
    }
   ],
   "source": [
    "print(x_test.shape)\n",
    "print(theta_test.shape)"
   ]
  },
  {
   "cell_type": "markdown",
   "id": "covered-telescope",
   "metadata": {},
   "source": [
    "### Networks"
   ]
  },
  {
   "cell_type": "code",
   "execution_count": 8,
   "id": "hundred-condition",
   "metadata": {},
   "outputs": [],
   "source": [
    "# Instantiate model\n",
    "summary_net = HeteroskedasticModel(summary_meta)\n",
    "model = BayesFlow(inv_meta, n_inv_blocks, theta_dim, summary_net=summary_net, permute=True)"
   ]
  },
  {
   "cell_type": "markdown",
   "id": "respected-scanner",
   "metadata": {},
   "source": [
    "### Compile"
   ]
  },
  {
   "cell_type": "code",
   "execution_count": 9,
   "id": "nervous-forwarding",
   "metadata": {},
   "outputs": [
    {
     "data": {
      "image/png": "[encoded data removed]",
      "text/plain": [
       "<Figure size 864x288 with 5 Axes>"
      ]
     },
     "metadata": {
      "needs_background": "light"
     },
     "output_type": "display_data"
    }
   ],
   "source": [
    "plot_true_est_scatter(model, x_test, theta_test, n_samples_posterior, parameter_names, figsize=(12, 4))"
   ]
  },
  {
   "cell_type": "markdown",
   "id": "connected-catalog",
   "metadata": {},
   "source": [
    "### Manage checkpoints"
   ]
  },
  {
   "cell_type": "code",
   "execution_count": 10,
   "id": "official-spare",
   "metadata": {},
   "outputs": [
    {
     "name": "stdout",
     "output_type": "stream",
     "text": [
      "Restored from ./checkpoints/SEIDR_v2/ckpt-251\n"
     ]
    }
   ],
   "source": [
    "checkpoint = tf.train.Checkpoint(step=global_step, optimizer=optimizer, net=model)\n",
    "manager = tf.train.CheckpointManager(checkpoint, './checkpoints/{}'.format(ckpt_file), max_to_keep=3)\n",
    "checkpoint.restore(manager.latest_checkpoint)\n",
    "if manager.latest_checkpoint:\n",
    "    print(\"Restored from {}\".format(manager.latest_checkpoint))\n",
    "else:\n",
    "    print(\"Initializing from scratch.\")"
   ]
  },
  {
   "cell_type": "markdown",
   "id": "declared-jones",
   "metadata": {},
   "source": [
    "### Training network"
   ]
  },
  {
   "cell_type": "code",
   "execution_count": null,
   "id": "green-security",
   "metadata": {
    "scrolled": true
   },
   "outputs": [
    {
     "name": "stderr",
     "output_type": "stream",
     "text": [
      "Training epoch 1: 100%|██████████| 1000/1000 [01:47<00:00,  9.29it/s, Iteration: 1000, Loss: -31.55000114440918]\n",
      "Training epoch 2: 100%|██████████| 1000/1000 [01:48<00:00,  9.23it/s, Iteration: 1000, Loss: -31.42593765258789]\n",
      "Training epoch 3: 100%|██████████| 1000/1000 [01:50<00:00,  9.06it/s, Iteration: 1000, Loss: -30.973480224609375]\n",
      "Training epoch 4: 100%|██████████| 1000/1000 [01:49<00:00,  9.11it/s, Iteration: 1000, Loss: -31.79935646057129]\n",
      "Training epoch 5: 100%|██████████| 1000/1000 [01:42<00:00,  9.73it/s, Iteration: 1000, Loss: -31.377479553222656]\n",
      "Training epoch 6: 100%|██████████| 1000/1000 [01:41<00:00,  9.87it/s, Iteration: 1000, Loss: -31.632957458496094]\n",
      "Training epoch 7: 100%|██████████| 1000/1000 [01:40<00:00,  9.90it/s, Iteration: 1000, Loss: -31.44559097290039]\n",
      "Training epoch 8: 100%|██████████| 1000/1000 [01:44<00:00,  9.53it/s, Iteration: 1000, Loss: -31.616207122802734]\n",
      "Training epoch 9: 100%|██████████| 1000/1000 [01:44<00:00,  9.58it/s, Iteration: 1000, Loss: -31.451799392700195]\n",
      "Training epoch 10: 100%|██████████| 1000/1000 [01:42<00:00,  9.76it/s, Iteration: 1000, Loss: -31.279621124267578]\n",
      "Training epoch 11: 100%|██████████| 1000/1000 [01:41<00:00,  9.81it/s, Iteration: 1000, Loss: -31.369714736938477]\n",
      "Training epoch 12: 100%|██████████| 1000/1000 [01:42<00:00,  9.75it/s, Iteration: 1000, Loss: -30.9893856048584]\n",
      "Training epoch 13: 100%|██████████| 1000/1000 [01:42<00:00,  9.75it/s, Iteration: 1000, Loss: -31.889429092407227]\n",
      "Training epoch 14: 100%|██████████| 1000/1000 [01:42<00:00,  9.75it/s, Iteration: 1000, Loss: -30.732463836669922]\n",
      "Training epoch 15: 100%|██████████| 1000/1000 [01:43<00:00,  9.69it/s, Iteration: 1000, Loss: -31.034229278564453]\n",
      "Training epoch 16: 100%|██████████| 1000/1000 [01:42<00:00,  9.76it/s, Iteration: 1000, Loss: -31.92976188659668]\n",
      "Training epoch 17: 100%|██████████| 1000/1000 [01:42<00:00,  9.73it/s, Iteration: 1000, Loss: -31.386184692382812]\n",
      "Training epoch 18: 100%|██████████| 1000/1000 [01:42<00:00,  9.73it/s, Iteration: 1000, Loss: -31.2460880279541]\n",
      "Training epoch 19: 100%|██████████| 1000/1000 [01:42<00:00,  9.72it/s, Iteration: 1000, Loss: -31.742168426513672]\n",
      "Training epoch 20: 100%|██████████| 1000/1000 [01:43<00:00,  9.68it/s, Iteration: 1000, Loss: -31.89046287536621]\n",
      "Training epoch 21: 100%|██████████| 1000/1000 [01:45<00:00,  9.51it/s, Iteration: 1000, Loss: -31.236042022705078]\n",
      "Training epoch 22: 100%|██████████| 1000/1000 [01:43<00:00,  9.65it/s, Iteration: 1000, Loss: -31.738128662109375]\n",
      "Training epoch 23: 100%|██████████| 1000/1000 [01:43<00:00,  9.62it/s, Iteration: 1000, Loss: -30.72934341430664]\n",
      "Training epoch 24: 100%|██████████| 1000/1000 [01:44<00:00,  9.61it/s, Iteration: 1000, Loss: -31.956323623657227]\n",
      "Training epoch 25: 100%|██████████| 1000/1000 [01:44<00:00,  9.59it/s, Iteration: 1000, Loss: -31.0701904296875]\n",
      "Training epoch 26: 100%|██████████| 1000/1000 [01:44<00:00,  9.58it/s, Iteration: 1000, Loss: -30.841087341308594]\n",
      "Training epoch 27: 100%|██████████| 1000/1000 [01:44<00:00,  9.54it/s, Iteration: 1000, Loss: -31.785274505615234]\n",
      "Training epoch 28: 100%|██████████| 1000/1000 [01:44<00:00,  9.54it/s, Iteration: 1000, Loss: -30.74332046508789]\n",
      "Training epoch 29: 100%|██████████| 1000/1000 [01:44<00:00,  9.53it/s, Iteration: 1000, Loss: -31.381126403808594]\n",
      "Training epoch 30: 100%|██████████| 1000/1000 [01:45<00:00,  9.47it/s, Iteration: 1000, Loss: -30.66424560546875]\n",
      "Training epoch 31: 100%|██████████| 1000/1000 [01:45<00:00,  9.49it/s, Iteration: 1000, Loss: -30.415544509887695]\n",
      "Training epoch 32: 100%|██████████| 1000/1000 [01:45<00:00,  9.49it/s, Iteration: 1000, Loss: -30.88399314880371]\n",
      "Training epoch 33: 100%|██████████| 1000/1000 [01:45<00:00,  9.47it/s, Iteration: 1000, Loss: -31.732593536376953]\n",
      "Training epoch 34: 100%|██████████| 1000/1000 [01:45<00:00,  9.47it/s, Iteration: 1000, Loss: -31.66691017150879]\n",
      "Training epoch 35: 100%|██████████| 1000/1000 [01:45<00:00,  9.45it/s, Iteration: 1000, Loss: -31.793094635009766]\n",
      "Training epoch 36: 100%|██████████| 1000/1000 [01:57<00:00,  8.52it/s, Iteration: 1000, Loss: -31.429443359375] \n",
      "Training epoch 37: 100%|██████████| 1000/1000 [06:43<00:00,  2.48it/s, Iteration: 1000, Loss: -31.209857940673828]\n",
      "Training epoch 38: 100%|██████████| 1000/1000 [01:45<00:00,  9.45it/s, Iteration: 1000, Loss: -31.588695526123047]\n",
      "Training epoch 39: 100%|██████████| 1000/1000 [01:48<00:00,  9.26it/s, Iteration: 1000, Loss: -31.42365837097168]\n",
      "Training epoch 40: 100%|██████████| 1000/1000 [01:47<00:00,  9.31it/s, Iteration: 1000, Loss: -31.049907684326172]\n",
      "Training epoch 41: 100%|██████████| 1000/1000 [01:46<00:00,  9.36it/s, Iteration: 1000, Loss: -31.696277618408203]\n",
      "Training epoch 42: 100%|██████████| 1000/1000 [01:46<00:00,  9.40it/s, Iteration: 1000, Loss: -31.140390396118164]\n",
      "Training epoch 43: 100%|██████████| 1000/1000 [01:46<00:00,  9.38it/s, Iteration: 1000, Loss: -31.726016998291016]\n",
      "Training epoch 44: 100%|██████████| 1000/1000 [01:46<00:00,  9.36it/s, Iteration: 1000, Loss: -31.686729431152344]\n",
      "Training epoch 45: 100%|██████████| 1000/1000 [01:46<00:00,  9.37it/s, Iteration: 1000, Loss: -31.489208221435547]\n",
      "Training epoch 46: 100%|██████████| 1000/1000 [01:46<00:00,  9.35it/s, Iteration: 1000, Loss: -31.31655502319336]\n",
      "Training epoch 47: 100%|██████████| 1000/1000 [01:47<00:00,  9.32it/s, Iteration: 1000, Loss: -31.00311279296875]\n",
      "Training epoch 48: 100%|██████████| 1000/1000 [01:46<00:00,  9.35it/s, Iteration: 1000, Loss: -31.30792236328125]\n",
      "Training epoch 49: 100%|██████████| 1000/1000 [01:46<00:00,  9.35it/s, Iteration: 1000, Loss: -31.6966609954834]\n",
      "Training epoch 50: 100%|██████████| 1000/1000 [01:47<00:00,  9.34it/s, Iteration: 1000, Loss: -31.957691192626953]\n",
      "Training epoch 51: 100%|██████████| 1000/1000 [01:46<00:00,  9.39it/s, Iteration: 1000, Loss: -31.521739959716797]\n",
      "Training epoch 52: 100%|██████████| 1000/1000 [01:47<00:00,  9.29it/s, Iteration: 1000, Loss: -31.394506454467773]\n",
      "Training epoch 53: 100%|██████████| 1000/1000 [01:47<00:00,  9.34it/s, Iteration: 1000, Loss: -31.384090423583984]\n",
      "Training epoch 54: 100%|██████████| 1000/1000 [01:47<00:00,  9.29it/s, Iteration: 1000, Loss: -30.9337158203125]\n",
      "Training epoch 55: 100%|██████████| 1000/1000 [01:46<00:00,  9.39it/s, Iteration: 1000, Loss: -32.16898727416992]\n",
      "Training epoch 56: 100%|██████████| 1000/1000 [01:46<00:00,  9.36it/s, Iteration: 1000, Loss: -31.479145050048828]\n",
      "Training epoch 57: 100%|██████████| 1000/1000 [01:46<00:00,  9.37it/s, Iteration: 1000, Loss: -31.64031219482422]\n",
      "Training epoch 58: 100%|██████████| 1000/1000 [01:46<00:00,  9.41it/s, Iteration: 1000, Loss: -31.251052856445312]\n",
      "Training epoch 59: 100%|██████████| 1000/1000 [01:45<00:00,  9.45it/s, Iteration: 1000, Loss: -32.223243713378906]\n",
      "Training epoch 60: 100%|██████████| 1000/1000 [01:47<00:00,  9.27it/s, Iteration: 1000, Loss: -31.799144744873047]\n",
      "Training epoch 61: 100%|██████████| 1000/1000 [01:48<00:00,  9.22it/s, Iteration: 1000, Loss: -31.843868255615234]\n",
      "Training epoch 62: 100%|██████████| 1000/1000 [01:48<00:00,  9.19it/s, Iteration: 1000, Loss: -31.206165313720703]\n",
      "Training epoch 63: 100%|██████████| 1000/1000 [01:50<00:00,  9.03it/s, Iteration: 1000, Loss: -31.100704193115234]\n",
      "Training epoch 64: 100%|██████████| 1000/1000 [01:49<00:00,  9.09it/s, Iteration: 1000, Loss: -31.310501098632812]\n",
      "Training epoch 65: 100%|██████████| 1000/1000 [01:52<00:00,  8.92it/s, Iteration: 1000, Loss: -30.987720489501953]\n",
      "Training epoch 66: 100%|██████████| 1000/1000 [01:49<00:00,  9.14it/s, Iteration: 1000, Loss: -31.23476791381836]\n",
      "Training epoch 67: 100%|██████████| 1000/1000 [01:52<00:00,  8.90it/s, Iteration: 1000, Loss: -31.060155868530273]\n",
      "Training epoch 68: 100%|██████████| 1000/1000 [01:49<00:00,  9.12it/s, Iteration: 1000, Loss: -31.393901824951172]\n",
      "Training epoch 69: 100%|██████████| 1000/1000 [01:52<00:00,  8.88it/s, Iteration: 1000, Loss: -31.566402435302734]\n",
      "Training epoch 70: 100%|██████████| 1000/1000 [01:50<00:00,  9.02it/s, Iteration: 1000, Loss: -31.779647827148438]\n",
      "Training epoch 71: 100%|██████████| 1000/1000 [01:50<00:00,  9.05it/s, Iteration: 1000, Loss: -31.335323333740234]\n"
     ]
    },
    {
     "name": "stderr",
     "output_type": "stream",
     "text": [
      "Training epoch 72: 100%|██████████| 1000/1000 [01:47<00:00,  9.30it/s, Iteration: 1000, Loss: -31.854251861572266]\n",
      "Training epoch 73: 100%|██████████| 1000/1000 [01:47<00:00,  9.30it/s, Iteration: 1000, Loss: -31.325824737548828]\n",
      "Training epoch 74: 100%|██████████| 1000/1000 [01:47<00:00,  9.29it/s, Iteration: 1000, Loss: -32.37157440185547]\n",
      "Training epoch 75: 100%|██████████| 1000/1000 [01:47<00:00,  9.29it/s, Iteration: 1000, Loss: -31.207433700561523]\n",
      "Training epoch 76: 100%|██████████| 1000/1000 [01:47<00:00,  9.26it/s, Iteration: 1000, Loss: -31.540489196777344]\n",
      "Training epoch 77: 100%|██████████| 1000/1000 [01:47<00:00,  9.29it/s, Iteration: 1000, Loss: -31.227210998535156]\n",
      "Training epoch 78: 100%|██████████| 1000/1000 [01:48<00:00,  9.25it/s, Iteration: 1000, Loss: -31.563932418823242]\n",
      "Training epoch 79: 100%|██████████| 1000/1000 [01:48<00:00,  9.24it/s, Iteration: 1000, Loss: -31.713178634643555]\n",
      "Training epoch 80: 100%|██████████| 1000/1000 [01:47<00:00,  9.29it/s, Iteration: 1000, Loss: -30.69388198852539]\n",
      "Training epoch 81: 100%|██████████| 1000/1000 [01:47<00:00,  9.27it/s, Iteration: 1000, Loss: -31.11809539794922]\n",
      "Training epoch 82: 100%|██████████| 1000/1000 [01:47<00:00,  9.28it/s, Iteration: 1000, Loss: -31.589492797851562]\n",
      "Training epoch 83: 100%|██████████| 1000/1000 [01:48<00:00,  9.22it/s, Iteration: 1000, Loss: -31.576412200927734]\n",
      "Training epoch 84: 100%|██████████| 1000/1000 [02:01<00:00,  8.26it/s, Iteration: 1000, Loss: -31.430252075195312]\n",
      "Training epoch 85: 100%|██████████| 1000/1000 [01:56<00:00,  8.56it/s, Iteration: 1000, Loss: -31.898035049438477]\n",
      "Training epoch 86: 100%|██████████| 1000/1000 [01:57<00:00,  8.54it/s, Iteration: 1000, Loss: -31.819740295410156]\n",
      "Training epoch 87: 100%|██████████| 1000/1000 [01:54<00:00,  8.77it/s, Iteration: 1000, Loss: -31.362159729003906]\n",
      "Training epoch 88: 100%|██████████| 1000/1000 [01:48<00:00,  9.24it/s, Iteration: 1000, Loss: -31.36925506591797]\n",
      "Training epoch 89: 100%|██████████| 1000/1000 [01:47<00:00,  9.29it/s, Iteration: 1000, Loss: -31.755647659301758]\n",
      "Training epoch 90: 100%|██████████| 1000/1000 [01:47<00:00,  9.31it/s, Iteration: 1000, Loss: -31.954120635986328]\n",
      "Training epoch 91: 100%|██████████| 1000/1000 [01:47<00:00,  9.29it/s, Iteration: 1000, Loss: -31.231075286865234]\n",
      "Training epoch 92: 100%|██████████| 1000/1000 [01:47<00:00,  9.29it/s, Iteration: 1000, Loss: -30.958450317382812]\n",
      "Training epoch 93: 100%|██████████| 1000/1000 [01:46<00:00,  9.42it/s, Iteration: 1000, Loss: -31.208023071289062]\n",
      "Training epoch 94: 100%|██████████| 1000/1000 [01:44<00:00,  9.60it/s, Iteration: 1000, Loss: -31.62061882019043]\n",
      "Training epoch 95: 100%|██████████| 1000/1000 [01:45<00:00,  9.52it/s, Iteration: 1000, Loss: -31.396175384521484]\n",
      "Training epoch 96: 100%|██████████| 1000/1000 [01:45<00:00,  9.44it/s, Iteration: 1000, Loss: -31.355743408203125]\n",
      "Training epoch 97: 100%|██████████| 1000/1000 [01:45<00:00,  9.51it/s, Iteration: 1000, Loss: -31.991436004638672]\n",
      "Training epoch 98: 100%|██████████| 1000/1000 [01:45<00:00,  9.51it/s, Iteration: 1000, Loss: -31.375308990478516]\n",
      "Training epoch 99: 100%|██████████| 1000/1000 [01:45<00:00,  9.48it/s, Iteration: 1000, Loss: -30.875308990478516]\n",
      "Training epoch 100:  42%|████▏     | 415/1000 [00:43<01:01,  9.47it/s, Iteration: 415, Loss: -31.422121047973633]"
     ]
    }
   ],
   "source": [
    "# %%time\n",
    "for ep in range(1, epochs + 1):\n",
    "    with tqdm(total=iterations_per_epoch, desc='Training epoch {}'.format(ep)) as p_bar:\n",
    "        losses = train_step(model=model, \n",
    "                            optimizer=optimizer,\n",
    "                            loss_fn=maximum_likelihood_loss, \n",
    "                            iterations=iterations_per_epoch,\n",
    "                            batch_size=batch_size,\n",
    "                            p_bar=p_bar,\n",
    "                            global_step=global_step) \n",
    "\n",
    "        # Manage checkpoint\n",
    "        manager.save()"
   ]
  },
  {
   "cell_type": "markdown",
   "id": "proud-harvey",
   "metadata": {},
   "source": [
    "### Posterior means & Full posteriors"
   ]
  },
  {
   "cell_type": "code",
   "execution_count": null,
   "id": "finite-darwin",
   "metadata": {},
   "outputs": [],
   "source": [
    "x_test.shape"
   ]
  },
  {
   "cell_type": "code",
   "execution_count": null,
   "id": "green-israeli",
   "metadata": {},
   "outputs": [],
   "source": [
    "# Estimation sanity checks\n",
    "theta_samples = model.sample(x_test, n_samples_posterior, to_numpy=True)\n",
    "theta_approx_means = theta_samples.mean(axis=0)"
   ]
  },
  {
   "cell_type": "code",
   "execution_count": null,
   "id": "false-tourist",
   "metadata": {},
   "outputs": [],
   "source": [
    "ftheta_approx_means, ftheta_test, fx_test = est_sanity_checks(theta_approx_means, theta_test, x_test=x_test)"
   ]
  },
  {
   "cell_type": "code",
   "execution_count": null,
   "id": "familiar-argentina",
   "metadata": {},
   "outputs": [],
   "source": [
    "print(fx_test.shape)\n",
    "print(ftheta_test.shape)\n",
    "print(ftheta_approx_means.shape)"
   ]
  },
  {
   "cell_type": "code",
   "execution_count": null,
   "id": "threaded-sport",
   "metadata": {},
   "outputs": [],
   "source": [
    "plot_true_est_scatter(model, fx_test, ftheta_test, n_samples_posterior, parameter_names, figsize=(12, 3), theta_approx_means=ftheta_approx_means)\n",
    "\n",
    "plot_true_est_posterior(model, 2000, parameter_names, font_size=8,\n",
    "                        X_test=fx_test[:5], \n",
    "                        theta_test=ftheta_test[:5], figsize=(12, 8))"
   ]
  },
  {
   "cell_type": "markdown",
   "id": "choice-france",
   "metadata": {},
   "source": [
    "What we have up to this point:\n",
    "- x_test: array-like of shape (500, 500) -- 500 time series for 5 compartiments\n",
    "- theta_samples: array-like of shape (n_samples_posterior, 500, 5) -- n_samples_posterior of tuples of parameter theta for the 500 time series. That is, for each time series of 5 compartiments, each sample of the n_samples_posterior will consist of 500 plausible tupples of parameters (each tuple consists of 5 parameters)\n",
    "\n",
    "ToDo:\n",
    "\n",
    "Iterate through all time series and exclude those parameters that are impossible (est sanity checks)\n",
    "So, when iterating through all time series, an array-like of shape (n_samples_posterior, 1, 5) --> (n_samples_posterior, 5) is obtained. The posteriors are then compared with the ground truth estimations.\n",
    "\n",
    "This array is filtered and used for resimulation\n",
    "\n",
    "Resimulation: The time series are computed by passing the obtained and filtered array of tuples.\n",
    "A total of fn_samples_posterior time series are simulated and compared with the posterior predictive"
   ]
  },
  {
   "cell_type": "code",
   "execution_count": null,
   "id": "atlantic-wales",
   "metadata": {},
   "outputs": [],
   "source": [
    "# Select random time series\n",
    "sel_idx = np.random.choice(theta_samples.shape[1], 1, replace=False)"
   ]
  },
  {
   "cell_type": "code",
   "execution_count": null,
   "id": "brilliant-luxembourg",
   "metadata": {},
   "outputs": [],
   "source": [
    "sel_theta_samples = theta_samples[:, sel_idx, :].squeeze()\n",
    "sel_theta_test = theta_test[sel_idx, :].squeeze()\n",
    "sel_x_test = x_test[sel_idx, :].squeeze().reshape(-1, 5)"
   ]
  },
  {
   "cell_type": "code",
   "execution_count": null,
   "id": "requested-worth",
   "metadata": {},
   "outputs": [],
   "source": [
    "# Sanity checks\n",
    "fsel_theta_samples = sample_sanity_checks(sel_theta_samples)"
   ]
  },
  {
   "cell_type": "code",
   "execution_count": null,
   "id": "declared-interview",
   "metadata": {
    "scrolled": true
   },
   "outputs": [],
   "source": [
    "print(sel_x_test.shape)\n",
    "print(sel_theta_test.shape)\n",
    "print(fsel_theta_samples.shape)"
   ]
  },
  {
   "cell_type": "markdown",
   "id": "experimental-apple",
   "metadata": {},
   "source": [
    "### Correlation of parameters"
   ]
  },
  {
   "cell_type": "code",
   "execution_count": null,
   "id": "specialized-qualification",
   "metadata": {
    "scrolled": false
   },
   "outputs": [],
   "source": [
    "print(parameter_names)\n",
    "plot_correlation_parameters(fsel_theta_samples, parameter_names)"
   ]
  },
  {
   "cell_type": "markdown",
   "id": "preliminary-sponsorship",
   "metadata": {},
   "source": [
    "### Ground-Truth comparison"
   ]
  },
  {
   "cell_type": "code",
   "execution_count": null,
   "id": "mathematical-republican",
   "metadata": {},
   "outputs": [],
   "source": [
    "# Ground-Truth comparison\n",
    "# For each parameter compute NRMSE\n",
    "nrmses = []\n",
    "for i in range(5):\n",
    "    # Compute NRMSE\n",
    "    rmse = np.sqrt(np.mean((fsel_theta_samples[:, i] - sel_theta_test[i]) ** 2))\n",
    "    nrmse = rmse / (sel_theta_test[i])\n",
    "    nrmses.append(nrmse)"
   ]
  },
  {
   "cell_type": "code",
   "execution_count": null,
   "id": "complete-national",
   "metadata": {},
   "outputs": [],
   "source": [
    "print(\"Ground-truth comparison (normalized root-mean-square deviation): \\n{}\".format(nrmses))"
   ]
  },
  {
   "cell_type": "code",
   "execution_count": null,
   "id": "reverse-berlin",
   "metadata": {},
   "outputs": [],
   "source": [
    "fsel_theta_samples.shape"
   ]
  },
  {
   "cell_type": "code",
   "execution_count": null,
   "id": "binary-boulder",
   "metadata": {},
   "outputs": [],
   "source": [
    "# Resimulation\n",
    "t_obs = 100\n",
    "dt = 1\n",
    "t = np.linspace(0, t_obs, int(t_obs/dt))\n",
    "N = 10000\n",
    "init_vals = 1 - 1/N, 1/N, 0, 0, 0\n",
    "forward_model = partial(data_model, initial_values=init_vals)"
   ]
  },
  {
   "cell_type": "code",
   "execution_count": null,
   "id": "extraordinary-soldier",
   "metadata": {},
   "outputs": [],
   "source": [
    "ts = np.empty((fsel_theta_samples.shape[0], t_obs, 5))\n",
    "for i in range(fsel_theta_samples.shape[0]):\n",
    "    ts[i, :, :] = forward_model(fsel_theta_samples[i, :], t=t)"
   ]
  },
  {
   "cell_type": "code",
   "execution_count": null,
   "id": "therapeutic-combination",
   "metadata": {},
   "outputs": [],
   "source": [
    "labels = ['S', 'E', 'I', 'R', 'D']\n",
    "ts.shape"
   ]
  },
  {
   "cell_type": "code",
   "execution_count": null,
   "id": "third-significance",
   "metadata": {},
   "outputs": [],
   "source": [
    "# Plot time series\n",
    "plt.rcParams['font.size'] = 11\n",
    "f, ax = plt.subplots(1, 1, figsize=(15, 10))\n",
    "for i in range(5):\n",
    "    ax.plot(ts[0, :, i], label=labels[i], lw=2)\n",
    "    \n",
    "plt.legend()"
   ]
  },
  {
   "cell_type": "code",
   "execution_count": null,
   "id": "round-meter",
   "metadata": {
    "scrolled": false
   },
   "outputs": [],
   "source": [
    "# Plot posterior predictive comparison of n random samples\n",
    "cmap = cm.Blues\n",
    "plot_ppc(t, ts, labels, sel_x_test, ps=True, cmedian='Blue')"
   ]
  },
  {
   "cell_type": "code",
   "execution_count": null,
   "id": "demographic-marriage",
   "metadata": {},
   "outputs": [],
   "source": []
  }
 ],
 "metadata": {
  "kernelspec": {
   "display_name": "Python 3",
   "language": "python",
   "name": "python3"
  },
  "language_info": {
   "codemirror_mode": {
    "name": "ipython",
    "version": 3
   },
   "file_extension": ".py",
   "mimetype": "text/x-python",
   "name": "python",
   "nbconvert_exporter": "python",
   "pygments_lexer": "ipython3",
   "version": "3.8.2"
  }
 },
 "nbformat": 4,
 "nbformat_minor": 5
}
